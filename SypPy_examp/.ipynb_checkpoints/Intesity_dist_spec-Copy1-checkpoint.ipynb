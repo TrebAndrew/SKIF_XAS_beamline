{
 "cells": [
  {
   "cell_type": "markdown",
   "metadata": {},
   "source": [
    "This is a part with a graphs for my diploma"
   ]
  },
  {
   "cell_type": "code",
   "execution_count": 1,
   "metadata": {},
   "outputs": [],
   "source": [
    "from sympy import*\n",
    "from sympy import plot\n",
    "#import matplotlib.pyplot as plt\n",
    "init_printing()"
   ]
  },
  {
   "cell_type": "code",
   "execution_count": 2,
   "metadata": {},
   "outputs": [],
   "source": [
    "I, Delta_w, w, w_r, theta, rel = symbols('I, Delta_w, w, w_r, theta, rel')\n",
    "k_w, lambda_w, L, c, gamma_bar = symbols('k_w, lambda_w, L, c, gamma_bar')"
   ]
  },
  {
   "cell_type": "code",
   "execution_count": 3,
   "metadata": {
    "scrolled": true
   },
   "outputs": [
    {
     "name": "stderr",
     "output_type": "stream",
     "text": [
      "/home/andrei/anaconda3/lib/python3.6/site-packages/sympy/plotting/experimental_lambdify.py:165: UserWarning: The evaluation of the expression is problematic. We are trying a failback method that may still work. Please report this as a bug.\n",
      "  warnings.warn('The evaluation of the expression is'\n"
     ]
    },
    {
     "data": {
      "text/plain": [
       "<matplotlib.figure.Figure at 0x7ff8aeec0cc0>"
      ]
     },
     "metadata": {},
     "output_type": "display_data"
    }
   ],
   "source": [
    "c = 299792458 #m/s\n",
    "L = 1.5 #m\n",
    "lambda_w = 20 * 1e-3 #m undulator length\n",
    "gamma_bar = 6000 #Ebeam/m_e\n",
    "k_w = 2*pi/lambda_w\n",
    "w_r = 2*c*gamma_bar**2*k_w #resonant frequency\n",
    "\n",
    "theta = -0.00000\n",
    "I = (sinc(((k_w + w_r*theta**2/(2*c))*rel + w_r*theta**2/2/c)*L/2))**2\n",
    "\n",
    "P = plot(I, (rel, -0.05, 0.05), adaptive=False, nb_of_points=2000, \n",
    "         xlabel=r'$\\mathrm{\\Delta\\omega / \\omega}$',\n",
    "         ylabel=r'$\\mathrm{I/I_0}$')#, show=False)\n",
    "\n",
    "#P.save('/home/andrei/Desktop/spec.pdf')\n"
   ]
  }
 ],
 "metadata": {
  "kernelspec": {
   "display_name": "Python 3",
   "language": "python",
   "name": "python3"
  },
  "language_info": {
   "codemirror_mode": {
    "name": "ipython",
    "version": 3
   },
   "file_extension": ".py",
   "mimetype": "text/x-python",
   "name": "python",
   "nbconvert_exporter": "python",
   "pygments_lexer": "ipython3",
   "version": "3.6.4"
  }
 },
 "nbformat": 4,
 "nbformat_minor": 2
}
