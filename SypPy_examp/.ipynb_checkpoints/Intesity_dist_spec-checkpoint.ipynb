{
 "cells": [
  {
   "cell_type": "markdown",
   "metadata": {},
   "source": [
    "This is a part with a graphs for my diploma"
   ]
  },
  {
   "cell_type": "code",
   "execution_count": 2,
   "metadata": {},
   "outputs": [],
   "source": [
    "from sympy import*\n",
    "from sympy import plot\n",
    "import numpy as np\n",
    "import matplotlib.pyplot as plt\n",
    "init_printing()"
   ]
  },
  {
   "cell_type": "code",
   "execution_count": 2,
   "metadata": {},
   "outputs": [],
   "source": [
    "I, I1, I2, Delta_w, w, w_r, theta, rel = symbols('I, I1, I2, Delta_w, w, w_r, theta, rel')\n",
    "k_w, lambda_w, L, c, gamma_bar = symbols('k_w, lambda_w, L, c, gamma_bar')"
   ]
  },
  {
   "cell_type": "code",
   "execution_count": 3,
   "metadata": {
    "scrolled": true
   },
   "outputs": [
    {
     "name": "stdout",
     "output_type": "stream",
     "text": [
      "sinc(L*(rel*(3600000000.0*pi*theta**2 + 100.0*pi) + 3600000000.0*pi*theta**2)/2)**2\n"
     ]
    }
   ],
   "source": [
    "c = 299792458 #m/s\n",
    "#L = 1.5 #m\n",
    "lambda_w = 20 * 1e-3 #m undulator period length\n",
    "gamma_bar = 6000 #Ebeam/m_e\n",
    "k_w = 2*pi/lambda_w\n",
    "w_r = 2*c*gamma_bar**2*k_w #resonant frequency\n",
    "\n",
    "#theta = -0.00000\n",
    "I = (sinc(((k_w + w_r*theta**2/(2*c))*rel + w_r*theta**2/2/c)*L/2))**2\n",
    "#P = plot(I, (rel, -0.05, 0.05), adaptive=False, nb_of_points=400, show=False,\n",
    "#         xlabel=r'$\\mathrm{\\Delta\\omega / \\omega}$',\n",
    "#         ylabel=r'$\\mathrm{I/I_0}$',\n",
    "#         line_color='black')#, show=False)\n",
    "\n",
    "#P.save('/home/andrei/Desktop/spec.pdf')\n",
    "print(I)"
   ]
  },
  {
   "cell_type": "code",
   "execution_count": 4,
   "metadata": {
    "scrolled": true
   },
   "outputs": [
    {
     "data": {
      "image/png": "[encoded data removed]",
      "text/plain": [
       "<matplotlib.figure.Figure at 0x7fcf89cc6390>"
      ]
     },
     "metadata": {},
     "output_type": "display_data"
    }
   ],
   "source": [
    "def Intens(rel, theta, L):\n",
    "    return np.sinc((0.75*rel*(3600000000.0*np.pi*theta**2 + 100.0*np.pi) + 2700000000.0*np.pi*theta**2)*L/2)**2\n",
    "\n",
    "rel = np.arange(-0.025,0.025, 0.00001)\n",
    "theta = 0\n",
    "L = 1.5\n",
    "plt.figure(figsize=(1.5*4,1.5*3))\n",
    "plt.plot(rel, Intens(rel,theta, L), color='blue')\n",
    "plt.xlabel(r'$\\Delta\\omega/\\omega$', fontsize=14, labelpad = 0.0)\n",
    "y = plt.ylabel(r'$I/I_0$', fontsize=14, labelpad = 0.0, rotation=90)\n",
    "y.set_rotation(0)\n",
    "\n",
    "plt.xticks([-0.02, -0.01, 0, 0.01, 0.02],fontsize=14)\n",
    "        #  [r'$-\\pi$', r'$-\\pi/2$', r'$0$', r'$+\\pi/2$', r'$+\\pi$'])\n",
    "\n",
    "plt.yticks([0.2, 0.4,0.6,0.8, 1.0], fontsize=14)\n",
    "        #  [r'$-1$', r'$0$', r'$+1$'])\n",
    "        \n",
    "ax = plt.gca()\n",
    "ax.spines['right'].set_color('none')\n",
    "ax.spines['top'].set_color('none')\n",
    "ax.xaxis.set_ticks_position('bottom')\n",
    "ax.spines['bottom'].set_position(('data',0))\n",
    "ax.yaxis.set_ticks_position('left')\n",
    "ax.spines['left'].set_position(('data',0))\n",
    "ax.xaxis.set_label_coords(1, 0.025)\n",
    "ax.yaxis.set_label_coords(0.465, 1.0)\n",
    "for label in ax.get_xticklabels() + ax.get_yticklabels():\n",
    "    label.set_fontsize(15)\n",
    "    label.set_bbox(dict(facecolor='white', edgecolor='None', alpha=0.01))\n",
    "\n",
    "plt.tight_layout()\n",
    "plt.savefig('/home/andrei/Documents/SKIF_XAS_beamline/TeXDoc/pic/spec.pdf')#, bbox_inches='tight')\n",
    "plt.show()"
   ]
  },
  {
   "cell_type": "markdown",
   "metadata": {},
   "source": [
    "The same graphs in normilised units $\\hat{C} = CL = 2\\pi N\\cfrac{\\Delta\\omega}{\\omega_r}$ and $\\hat{\\theta} = \\theta\\sqrt{\\cfrac{\\omega L}{c}}$\n",
    "\n",
    "Field distribution is: $\\hat{E}_{\\bot} = e^{i\\Phi}\n",
    "\t\t\\cfrac{\\sin\\bigg(\\cfrac{\\hat{C}}{2} + \n",
    "\t\t\\cfrac{\\hat{\\theta}^2}{4}\\bigg)}{\\cfrac{\\hat{C}}{2} + \n",
    "\t\t\\cfrac{\\hat{\\theta}^2}{4}}$"
   ]
  },
  {
   "cell_type": "code",
   "execution_count": 1,
   "metadata": {
    "scrolled": true
   },
   "outputs": [
    {
     "ename": "NameError",
     "evalue": "name 'np' is not defined",
     "output_type": "error",
     "traceback": [
      "\u001b[0;31m---------------------------------------------------------------------------\u001b[0m",
      "\u001b[0;31mNameError\u001b[0m                                 Traceback (most recent call last)",
      "\u001b[0;32m<ipython-input-1-91eb3ded5623>\u001b[0m in \u001b[0;36m<module>\u001b[0;34m()\u001b[0m\n\u001b[1;32m      2\u001b[0m     \u001b[0;32mreturn\u001b[0m \u001b[0;34m(\u001b[0m\u001b[0mnp\u001b[0m\u001b[0;34m.\u001b[0m\u001b[0msinc\u001b[0m\u001b[0;34m(\u001b[0m\u001b[0mC\u001b[0m\u001b[0;34m/\u001b[0m\u001b[0;36m2\u001b[0m\u001b[0;34m)\u001b[0m \u001b[0;34m+\u001b[0m \u001b[0mtheta\u001b[0m\u001b[0;34m**\u001b[0m\u001b[0;36m2\u001b[0m\u001b[0;34m/\u001b[0m\u001b[0;36m4\u001b[0m\u001b[0;34m)\u001b[0m\u001b[0;34m**\u001b[0m\u001b[0;36m2\u001b[0m\u001b[0;34m\u001b[0m\u001b[0m\n\u001b[1;32m      3\u001b[0m \u001b[0;34m\u001b[0m\u001b[0m\n\u001b[0;32m----> 4\u001b[0;31m \u001b[0mC\u001b[0m \u001b[0;34m=\u001b[0m \u001b[0mnp\u001b[0m\u001b[0;34m.\u001b[0m\u001b[0marange\u001b[0m\u001b[0;34m(\u001b[0m\u001b[0;34m-\u001b[0m\u001b[0;36m6.5\u001b[0m\u001b[0;34m,\u001b[0m\u001b[0;36m6.5\u001b[0m\u001b[0;34m,\u001b[0m \u001b[0;36m0.1\u001b[0m\u001b[0;34m)\u001b[0m\u001b[0;34m\u001b[0m\u001b[0m\n\u001b[0m\u001b[1;32m      5\u001b[0m \u001b[0mtheta\u001b[0m \u001b[0;34m=\u001b[0m \u001b[0mnp\u001b[0m\u001b[0;34m.\u001b[0m\u001b[0marange\u001b[0m\u001b[0;34m(\u001b[0m\u001b[0;34m-\u001b[0m\u001b[0;36m6.5\u001b[0m\u001b[0;34m,\u001b[0m\u001b[0;36m6.5\u001b[0m\u001b[0;34m,\u001b[0m \u001b[0;36m0.1\u001b[0m\u001b[0;34m)\u001b[0m\u001b[0;34m\u001b[0m\u001b[0m\n\u001b[1;32m      6\u001b[0m \u001b[0mtheta\u001b[0m \u001b[0;34m=\u001b[0m \u001b[0;36m0\u001b[0m\u001b[0;34m\u001b[0m\u001b[0m\n",
      "\u001b[0;31mNameError\u001b[0m: name 'np' is not defined"
     ]
    }
   ],
   "source": [
    "def Inten(C, theta):\n",
    "    return (np.sinc(C/2) + theta**2/4)**2\n",
    "\n",
    "C = np.arange(-6.5,6.5, 0.1)\n",
    "theta = np.arange(-6.5,6.5, 0.1)\n",
    "theta = 0\n",
    "plt.figure(figsize=(2*4,1.5*3))\n",
    "plt.plot(C, Inten(C, theta), color='blue')\n",
    "\n",
    "plt.xlabel(r'$\\hat{C}$', fontsize=14, labelpad = 0.0)\n",
    "y = plt.ylabel(r'$I/I_0$', fontsize=14, labelpad = 0.0, rotation=90)\n",
    "y.set_rotation(0)\n",
    "\n",
    "plt.xticks([-6, -4, -2, 0, 2, 4],fontsize=14)\n",
    "        #  [r'$-\\pi$', r'$-\\pi/2$', r'$0$', r'$+\\pi/2$', r'$+\\pi$'])\n",
    "\n",
    "plt.yticks([0.2, 0.4,0.6,0.8, 1.0], fontsize=14)\n",
    "        #  [r'$-1$', r'$0$', r'$+1$'])\n",
    "        \n",
    "ax = plt.gca()\n",
    "ax.spines['right'].set_color('none')\n",
    "ax.spines['top'].set_color('none')\n",
    "ax.xaxis.set_ticks_position('bottom')\n",
    "ax.spines['bottom'].set_position(('data',0))\n",
    "ax.yaxis.set_ticks_position('left')\n",
    "ax.spines['left'].set_position(('data',0))\n",
    "ax.xaxis.set_label_coords(1, 0.025)\n",
    "ax.yaxis.set_label_coords(0.465, 1.0)\n",
    "for label in ax.get_xticklabels() + ax.get_yticklabels():\n",
    "    label.set_fontsize(15)\n",
    "    label.set_bbox(dict(facecolor='white', edgecolor='None', alpha=0.01))\n",
    "\n",
    "plt.xlim(-6, 6)\n",
    "plt.tight_layout()\n",
    "plt.savefig('/home/andrei/Documents/SKIF_XAS_beamline/TeXDoc/pic/spec_C.pdf')#, bbox_inches='tight')\n",
    "plt.show()"
   ]
  },
  {
   "cell_type": "markdown",
   "metadata": {},
   "source": [
    "Intergrate over angles"
   ]
  },
  {
   "cell_type": "code",
   "execution_count": 3,
   "metadata": {},
   "outputs": [],
   "source": [
    "from sympy import*\n",
    "from sympy import plot\n",
    "from scipy import integrate\n",
    "import numpy as np\n",
    "import matplotlib.pyplot as plt\n",
    "init_printing()\n",
    "\n",
    "f = lambda theta, C : (sinc(C/2 + theta**2/4))**2\n",
    "#y, err = integrate.quad(f, -10, 10, args=(0,))\n",
    "\n",
    "C = np.linspace(-145, 30, 200)\n",
    "Integral_pinhole_16 = []\n",
    "for c in C:\n",
    "    y, err = integrate.quad(f, -16, 16, args=(c,))\n",
    "    Integral_pinhole_16.append(y)\n",
    "\n",
    "Integral_pinhole_1 = []\n",
    "for c in C:\n",
    "    y, err = integrate.quad(f, -1, 1, args=(c,))\n",
    "    Integral_pinhole_1.append(y)\n",
    "    \n",
    "Integral_pinhole_4 = []\n",
    "for c in C:\n",
    "    y, err = integrate.quad(f, -4, 4, args=(c,))\n",
    "    Integral_pinhole_4.append(y)\n",
    "\n",
    "Integral_pinhole_8 = []\n",
    "for c in C:\n",
    "    y, err = integrate.quad(f, -8, 8, args=(c,))\n",
    "    Integral_pinhole_8.append(y)\n",
    "    \n",
    "Integral_pinhole_12 = []\n",
    "for c in C:\n",
    "    y, err = integrate.quad(f, -12, 12, args=(c,))\n",
    "    Integral_pinhole_12.append(y)\n",
    "\n",
    "Integral_pinhole_0_5 = []\n",
    "for c in C:\n",
    "    y, err = integrate.quad(f, -0.5, 0.5, args=(c,))\n",
    "    Integral_pinhole_0_5.append(y)"
   ]
  },
  {
   "cell_type": "code",
   "execution_count": 14,
   "metadata": {},
   "outputs": [
    {
     "data": {
      "image/png": "[encoded data removed]",
      "text/plain": [
       "<matplotlib.figure.Figure at 0x7f5c22041be0>"
      ]
     },
     "metadata": {},
     "output_type": "display_data"
    }
   ],
   "source": [
    "plt.figure(figsize=(2*4,1.5*3))\n",
    "plt.plot(C, Integral_pinhole_16/np.max(Integral_pinhole_16), color='black', label=r'$\\hat{\\theta} = 16$')\n",
    "plt.plot(C, Integral_pinhole_12/np.max(Integral_pinhole_16), color='blue', linestyle='--', label=r'$\\hat{\\theta} = 12$')\n",
    "plt.plot(C, Integral_pinhole_8/np.max(Integral_pinhole_16), color='green',linestyle='-.', label=r'$\\hat{\\theta} = 8$')\n",
    "plt.plot(C, Integral_pinhole_4/np.max(Integral_pinhole_16), color='red',linestyle=':', label=r'$\\hat{\\theta} = 4$')\n",
    "plt.plot(C, Integral_pinhole_1/np.max(Integral_pinhole_16), color='gray',linestyle=(0, (1, 1)), label=r'$\\hat{\\theta} = 1$')\n",
    "plt.plot(C, Integral_pinhole_0_5/np.max(Integral_pinhole_16), color='tan',linestyle=(0, (3, 1, 1, 1, 1, 1)), label=r'$\\hat{\\theta} = 0.5$')\n",
    "\n",
    "plt.xlabel(r'$\\hat{C}$', fontsize=14, labelpad = 0.0)\n",
    "y = plt.ylabel(r'$I/I_0$', fontsize=14, labelpad = 0.0, rotation=90)\n",
    "y.set_rotation(0)\n",
    "\n",
    "ax = plt.gca()\n",
    "ax.spines['left'].set_color('none')\n",
    "ax.spines['top'].set_color('none')\n",
    "ax.xaxis.set_ticks_position('bottom')\n",
    "ax.spines['right'].set_position(('data',0))\n",
    "ax.yaxis.set_ticks_position('right')\n",
    "ax.spines['left'].set_position(('data',0))\n",
    "ax.xaxis.set_label_coords(1, -0.03)\n",
    "ax.yaxis.set_label_coords(0.9, 1.0)\n",
    "\n",
    "leg = plt.legend(fontsize=12)#loc='upper left')\n",
    "# Get the bounding box of the original legend\n",
    "bb = leg.get_bbox_to_anchor().inverse_transformed(ax.transAxes)\n",
    "\n",
    "# Change to location of the legend. \n",
    "xOffset = 0.2\n",
    "bb.x0 += 0.1\n",
    "bb.x1 += 0.01\n",
    "bb.y0 += 0.\n",
    "leg.set_bbox_to_anchor(bb, transform = ax.transAxes)\n",
    "    \n",
    "plt.xlim(-140, 20)\n",
    "plt.ylim(0, 1.1)\n",
    "plt.tight_layout()\n",
    "\n",
    "plt.xticks([-120, -100, -80, -60, -40, -20, 0],fontsize=10)\n",
    "        #  [r'$-\\pi$', r'$-\\pi/2$', r'$0$', r'$+\\pi/2$', r'$+\\pi$'])\n",
    "\n",
    "plt.yticks([0.2,0.4,0.6,0.8,1.0], fontsize=10)\n",
    "        #  [r'$-1$', r'$0$', r'$+1$'])\n",
    "\n",
    "for label in ax.get_xticklabels() + ax.get_yticklabels():\n",
    "    label.set_fontsize(12)\n",
    "    label.set_bbox(dict(facecolor='white', alpha=0.1, edgecolor='white'), )\n",
    "\n",
    "plt.savefig('/home/andrei/Documents/SKIF_XAS_beamline/TeXDoc/pic/spec_integ_ang.pdf')#, bbox_inches='tight')\n",
    "plt.show()    "
   ]
  },
  {
   "cell_type": "code",
   "execution_count": null,
   "metadata": {},
   "outputs": [],
   "source": []
  }
 ],
 "metadata": {
  "kernelspec": {
   "display_name": "Python 3",
   "language": "python",
   "name": "python3"
  },
  "language_info": {
   "codemirror_mode": {
    "name": "ipython",
    "version": 3
   },
   "file_extension": ".py",
   "mimetype": "text/x-python",
   "name": "python",
   "nbconvert_exporter": "python",
   "pygments_lexer": "ipython3",
   "version": "3.6.4"
  }
 },
 "nbformat": 4,
 "nbformat_minor": 2
}
