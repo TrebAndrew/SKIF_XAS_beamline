{
 "cells": [
  {
   "cell_type": "markdown",
   "metadata": {},
   "source": [
    "Here we estimate the contribution from finite emittance of an electron bunch.\n",
    "At first, we write trajectory equations."
   ]
  },
  {
   "cell_type": "code",
   "execution_count": 1,
   "metadata": {},
   "outputs": [],
   "source": [
    "from sympy import*\n",
    "from sympy import plot\n",
    "import numpy as np\n",
    "import matplotlib.pyplot as plt\n",
    "init_printing()"
   ]
  },
  {
   "cell_type": "code",
   "execution_count": 5,
   "metadata": {},
   "outputs": [],
   "source": [
    "v_x, v_y, v_z, x, y, z = symbols('v_x, v_y, v_z, x , y, z')\n",
    "c, K, gamma, k_w= symbols('c, K, gamma, k_w', nonzero=True)\n",
    "z_0, z_1, s = symbols('z_0, z_1, s')\n",
    "eta_x, eta_y  = symbols('eta_x, eta_y ')\n",
    "l_x, l_y = symbols('l_x, l_y')"
   ]
  },
  {
   "cell_type": "code",
   "execution_count": null,
   "metadata": {},
   "outputs": [],
   "source": []
  },
  {
   "cell_type": "code",
   "execution_count": 11,
   "metadata": {},
   "outputs": [
    {
     "data": {
      "image/png": "[encoded data removed]",
      "text/latex": [
       "$$\\left ( \\frac{K}{\\gamma k_{w}} \\left(\\cos{\\left (k_{w} z \\right )} - 1\\right) + \\eta_{x} z + l_{x}, \\quad \\eta_{y} z + l_{x}\\right )$$"
      ],
      "text/plain": [
       "⎛K⋅(cos(k_w⋅z) - 1)                        ⎞\n",
       "⎜────────────────── + ηₓ⋅z + lₓ, η_y⋅z + lₓ⎟\n",
       "⎝      γ⋅k_w                               ⎠"
      ]
     },
     "execution_count": 11,
     "metadata": {},
     "output_type": "execute_result"
    }
   ],
   "source": [
    "v_x = -(c*K/gamma)*sin(k_w*z) + eta_x*v_z\n",
    "v_y = eta_y*v_z\n",
    "\n",
    "x = (K/gamma/k_w)*(cos(k_w*z) - 1) + eta_x*z + l_x\n",
    "y = eta_y*z + l_x\n",
    "x, y"
   ]
  },
  {
   "cell_type": "code",
   "execution_count": 31,
   "metadata": {},
   "outputs": [
    {
     "name": "stdout",
     "output_type": "stream",
     "text": [
      "K**2*z_0*sin(k_w*z_0)**2/(4*gamma**2) + K**2*z_0*cos(k_w*z_0)**2/(4*gamma**2) - K**2*sin(k_w*z_0)*cos(k_w*z_0)/(4*gamma**2*k_w) + K*eta_x*cos(k_w*z_0)/(gamma*k_w) - K*eta_x/(gamma*k_w) + eta_x**2*z_0/2 + eta_y**2*z_0/2 + z_0\n"
     ]
    }
   ],
   "source": [
    "s = integrate(1 + diff((x), z)**2/2 + diff((y), z)**2/2, (z, 0, z_0))\n",
    "#s = Integral(1 + 0.5*diff((x), z_0)**2 + 0.5*diff((y), z_0)**2, (z_0, 0, z_1))\n",
    "simplify(s)\n",
    "print(s)"
   ]
  },
  {
   "cell_type": "code",
   "execution_count": 32,
   "metadata": {},
   "outputs": [
    {
     "data": {
      "image/png": "[encoded data removed]",
      "text/latex": [
       "$$\\frac{K^{2} z_{0}}{4 \\gamma^{2}} \\sin^{2}{\\left (k_{w} z_{0} \\right )} + \\frac{K^{2} z_{0}}{4 \\gamma^{2}} \\cos^{2}{\\left (k_{w} z_{0} \\right )} - \\frac{K^{2} \\cos{\\left (k_{w} z_{0} \\right )}}{4 \\gamma^{2} k_{w}} \\sin{\\left (k_{w} z_{0} \\right )} + \\frac{K \\eta_{x}}{\\gamma k_{w}} \\cos{\\left (k_{w} z_{0} \\right )} - \\frac{K \\eta_{x}}{\\gamma k_{w}} + \\frac{\\eta_{x}^{2} z_{0}}{2} + \\frac{\\eta_{y}^{2} z_{0}}{2} + z_{0}$$"
      ],
      "text/plain": [
       " 2       2            2       2            2                                  \n",
       "K ⋅z₀⋅sin (k_w⋅z₀)   K ⋅z₀⋅cos (k_w⋅z₀)   K ⋅sin(k_w⋅z₀)⋅cos(k_w⋅z₀)   K⋅ηₓ⋅co\n",
       "────────────────── + ────────────────── - ────────────────────────── + ───────\n",
       "          2                    2                      2                     γ⋅\n",
       "       4⋅γ                  4⋅γ                    4⋅γ ⋅k_w                   \n",
       "\n",
       "                      2         2        \n",
       "s(k_w⋅z₀)    K⋅ηₓ   ηₓ ⋅z₀   η_y ⋅z₀     \n",
       "───────── - ───── + ────── + ─────── + z₀\n",
       "k_w         γ⋅k_w     2         2        \n",
       "                                         "
      ]
     },
     "execution_count": 32,
     "metadata": {},
     "output_type": "execute_result"
    }
   ],
   "source": [
    "s"
   ]
  },
  {
   "cell_type": "markdown",
   "metadata": {},
   "source": [
    "Here I define a new parameter --- beta_avr/beta = (1 - K^2/gamma^2),beta/beta_avr = (1 + K^2/gamma^2)"
   ]
  },
  {
   "cell_type": "code",
   "execution_count": 37,
   "metadata": {},
   "outputs": [],
   "source": [
    "beta, beta_avr = symbols('beta, beta_avr')"
   ]
  },
  {
   "cell_type": "code",
   "execution_count": 40,
   "metadata": {},
   "outputs": [
    {
     "data": {
      "image/png": "[encoded data removed]",
      "text/latex": [
       "$$\\frac{K^{2}}{8 \\gamma^{2} k_{w}} \\sin{\\left (2 k_{w} z_{0} \\right )} + \\frac{K \\eta_{x}}{\\gamma k_{w}} \\cos{\\left (k_{w} z_{0} \\right )} - \\frac{K \\eta_{x}}{\\gamma k_{w}} + z \\left(\\frac{\\beta}{\\beta_{avr}} + \\frac{\\eta_{x}^{2}}{2} + \\frac{\\eta_{y}^{2}}{2}\\right)$$"
      ],
      "text/plain": [
       " 2                                              ⎛         2      2⎞\n",
       "K ⋅sin(2⋅k_w⋅z₀)   K⋅ηₓ⋅cos(k_w⋅z₀)    K⋅ηₓ     ⎜ β     ηₓ    η_y ⎟\n",
       "──────────────── + ──────────────── - ───── + z⋅⎜──── + ─── + ────⎟\n",
       "       2                γ⋅k_w         γ⋅k_w     ⎝βₐᵥᵣ    2     2  ⎠\n",
       "    8⋅γ ⋅k_w                                                       "
      ]
     },
     "execution_count": 40,
     "metadata": {},
     "output_type": "execute_result"
    }
   ],
   "source": [
    "s = ((beta/beta_avr + (eta_x**2+ eta_y**2)/2)*z - \n",
    "    K*eta_x/(gamma*k_w) + K**2*sin(2*k_w*z_0)/(8*gamma**2*k_w) + \n",
    "    K*eta_x*cos(k_w*z_0)/(gamma*k_w)) \n",
    "s"
   ]
  },
  {
   "cell_type": "markdown",
   "metadata": {},
   "source": [
    "Now, we obtained the expression for the abscissa of the trajectory."
   ]
  }
 ],
 "metadata": {
  "kernelspec": {
   "display_name": "Python 3",
   "language": "python",
   "name": "python3"
  },
  "language_info": {
   "codemirror_mode": {
    "name": "ipython",
    "version": 3
   },
   "file_extension": ".py",
   "mimetype": "text/x-python",
   "name": "python",
   "nbconvert_exporter": "python",
   "pygments_lexer": "ipython3",
   "version": "3.6.4"
  }
 },
 "nbformat": 4,
 "nbformat_minor": 2
}
