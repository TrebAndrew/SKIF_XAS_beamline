{
 "cells": [
  {
   "cell_type": "markdown",
   "metadata": {},
   "source": [
    "Here we estimate the contribution from finite emittance of an electron bunch.\n",
    "At first, we write trajectory equations."
   ]
  },
  {
   "cell_type": "code",
   "execution_count": 40,
   "metadata": {},
   "outputs": [
    {
     "name": "stderr",
     "output_type": "stream",
     "text": [
      "/home/andrei/anaconda3/lib/python3.6/site-packages/scipy/integrate/quadpack.py:364: IntegrationWarning: The maximum number of subdivisions (50) has been achieved.\n",
      "  If increasing the limit yields no improvement it is advised to analyze \n",
      "  the integrand in order to determine the difficulties.  If the position of a \n",
      "  local difficulty can be determined (singularity, discontinuity) one will \n",
      "  probably gain from splitting up the interval and calling the integrator \n",
      "  on the subranges.  Perhaps a special-purpose integrator should be used.\n",
      "  warnings.warn(msg, IntegrationWarning)\n"
     ]
    }
   ],
   "source": [
    "from sympy import*\n",
    "from sympy import plot\n",
    "from scipy import integrate\n",
    "import numpy as np\n",
    "import matplotlib.pyplot as plt\n",
    "init_printing()\n",
    "\n",
    "f = lambda eta, x : (3/(8*np.sqrt(np.pi)))*(sin(x/2 + eta**2/4) / (x/2 + eta**2/4))**2\n",
    "#y, err = integrate.quad(f, -10, 10, args=(0,))\n",
    "\n",
    "C = np.linspace(-30, 15, 200)\n",
    "Integral = []\n",
    "for c in C:\n",
    "    y, err = integrate.quad(f, -30, 30, args=(c,))\n",
    "    Integral.append(y)\n"
   ]
  },
  {
   "cell_type": "code",
   "execution_count": 1,
   "metadata": {},
   "outputs": [
    {
     "ename": "NameError",
     "evalue": "name 'plt' is not defined",
     "output_type": "error",
     "traceback": [
      "\u001b[0;31m---------------------------------------------------------------------------\u001b[0m",
      "\u001b[0;31mNameError\u001b[0m                                 Traceback (most recent call last)",
      "\u001b[0;32m<ipython-input-1-d1ab1a0672cb>\u001b[0m in \u001b[0;36m<module>\u001b[0;34m()\u001b[0m\n\u001b[1;32m      6\u001b[0m \u001b[0;31m#for i in range(len(Integral)):\u001b[0m\u001b[0;34m\u001b[0m\u001b[0;34m\u001b[0m\u001b[0m\n\u001b[1;32m      7\u001b[0m \u001b[0;31m#    Integral[i] = Integral[i]*(3/(8*np.sqrt(3.14)))\u001b[0m\u001b[0;34m\u001b[0m\u001b[0;34m\u001b[0m\u001b[0m\n\u001b[0;32m----> 8\u001b[0;31m \u001b[0mplt\u001b[0m\u001b[0;34m.\u001b[0m\u001b[0mfigure\u001b[0m\u001b[0;34m(\u001b[0m\u001b[0mfigsize\u001b[0m\u001b[0;34m=\u001b[0m\u001b[0;34m(\u001b[0m\u001b[0;36m1.5\u001b[0m\u001b[0;34m*\u001b[0m\u001b[0;36m4\u001b[0m\u001b[0;34m,\u001b[0m\u001b[0;36m1.5\u001b[0m\u001b[0;34m*\u001b[0m\u001b[0;36m3\u001b[0m\u001b[0;34m)\u001b[0m\u001b[0;34m)\u001b[0m\u001b[0;34m\u001b[0m\u001b[0m\n\u001b[0m\u001b[1;32m      9\u001b[0m \u001b[0;31m#plt.plot(C, Integral, color='black', label='1')\u001b[0m\u001b[0;34m\u001b[0m\u001b[0;34m\u001b[0m\u001b[0m\n\u001b[1;32m     10\u001b[0m \u001b[0mplt\u001b[0m\u001b[0;34m.\u001b[0m\u001b[0mplot\u001b[0m\u001b[0;34m(\u001b[0m\u001b[0mC\u001b[0m\u001b[0;34m,\u001b[0m \u001b[0mInten\u001b[0m\u001b[0;34m(\u001b[0m\u001b[0mC\u001b[0m\u001b[0;34m,\u001b[0m \u001b[0mtheta\u001b[0m\u001b[0;34m)\u001b[0m\u001b[0;34m,\u001b[0m \u001b[0mcolor\u001b[0m\u001b[0;34m=\u001b[0m\u001b[0;34m'blue'\u001b[0m\u001b[0;34m,\u001b[0m \u001b[0mlinestyle\u001b[0m\u001b[0;34m=\u001b[0m\u001b[0;34m'--'\u001b[0m\u001b[0;34m,\u001b[0m \u001b[0mlabel\u001b[0m\u001b[0;34m=\u001b[0m\u001b[0;34m'2'\u001b[0m\u001b[0;34m)\u001b[0m\u001b[0;34m\u001b[0m\u001b[0m\n",
      "\u001b[0;31mNameError\u001b[0m: name 'plt' is not defined"
     ]
    }
   ],
   "source": [
    "def Inten(C, theta):\n",
    "    return (np.sin(C/2)/(C/2))**2\n",
    "\n",
    "#C = np.arange(-6.5,6.5, 0.1)\n",
    "theta = 0\n",
    "#for i in range(len(Integral)):\n",
    "#    Integral[i] = Integral[i]*(3/(8*np.sqrt(3.14)))\n",
    "plt.figure(figsize=(1.5*4,1.5*3))\n",
    "#plt.plot(C, Integral, color='black', label='1')\n",
    "plt.plot(C, Inten(C, theta), color='blue', linestyle='--', label='2')\n",
    "        \n",
    "plt.xlabel(r'$\\hat{C} + \\hat{\\theta}^2_y/2$', fontsize=14, labelpad = 0.0)\n",
    "y = plt.ylabel(r'$I/I_0$', fontsize=14, labelpad = 0.0, rotation=90)\n",
    "y.set_rotation(0)\n",
    "\n",
    "ax = plt.gca()\n",
    "ax.spines['right'].set_color('none')\n",
    "ax.spines['top'].set_color('none')\n",
    "ax.xaxis.set_ticks_position('bottom')\n",
    "ax.spines['top'].set_position(('axes',0))\n",
    "ax.yaxis.set_ticks_position('left')\n",
    "ax.spines['top'].set_position(('data',0))\n",
    "ax.xaxis.set_label_coords(0.92, -0.03)\n",
    "ax.yaxis.set_label_coords(-0.03, 0.98)\n",
    "\n",
    "# Change to location of the legend. \n",
    "\n",
    "plt.xlim(-30, 15)\n",
    "plt.ylim(0, 1.1)\n",
    "plt.tight_layout()\n",
    "\n",
    "leg = plt.legend(fontsize=12)#loc='upper left')\n",
    "# Get the bounding box of the original legend\n",
    "bb = leg.get_bbox_to_anchor().inverse_transformed(ax.transAxes)\n",
    "\n",
    "# Change to location of the legend. \n",
    "xOffset = 0.2\n",
    "bb.x0 += 0.1\n",
    "bb.x1 += 0.01\n",
    "bb.y0 += 0.\n",
    "leg.set_bbox_to_anchor(bb, transform = ax.transAxes)\n",
    "    \n",
    "\n",
    "plt.xticks([-30, -25, -20, -15, -10, -5, 0, 5],fontsize=12)\n",
    "        #  [r'$-\\pi$', r'$-\\pi/2$', r'$0$', r'$+\\pi/2$', r'$+\\pi$'])\n",
    "\n",
    "plt.yticks([0.2,0.4,0.6,0.8,1.0], fontsize=12)\n",
    "        #  [r'$-1$', r'$0$', r'$+1$'])\n",
    "\n",
    "for label in ax.get_xticklabels() + ax.get_yticklabels():\n",
    "    label.set_fontsize(12)\n",
    "    label.set_bbox(dict(facecolor='white', alpha=0.1, edgecolor='white'), )\n",
    "\n",
    "    \n",
    "plt.savefig('/home/andrei/Documents/SKIF_XAS_beamline/TeXDoc/pic/spec_integ_emittance.pdf')#, bbox_inches='tight')\n",
    "plt.show()  "
   ]
  },
  {
   "cell_type": "code",
   "execution_count": 2,
   "metadata": {},
   "outputs": [],
   "source": [
    "v_x, v_y, v_z, x, y, z = symbols('v_x, v_y, v_z, x , y, z')\n",
    "c, K, gamma, k_w= symbols('c, K, gamma, k_w', nonzero=True)\n",
    "z_0, z_1, s = symbols('z_0, z_1, s')\n",
    "eta_x, eta_y  = symbols('eta_x, eta_y ')\n",
    "l_x, l_y = symbols('l_x, l_y')"
   ]
  },
  {
   "cell_type": "code",
   "execution_count": 3,
   "metadata": {},
   "outputs": [
    {
     "data": {
      "image/png": "[encoded data removed]",
      "text/latex": [
       "$$\\left ( \\frac{K}{\\gamma k_{w}} \\left(\\cos{\\left (k_{w} z \\right )} - 1\\right) + \\eta_{x} z + l_{x}, \\quad \\eta_{y} z + l_{x}\\right )$$"
      ],
      "text/plain": [
       "⎛K⋅(cos(k_w⋅z) - 1)                        ⎞\n",
       "⎜────────────────── + ηₓ⋅z + lₓ, η_y⋅z + lₓ⎟\n",
       "⎝      γ⋅k_w                               ⎠"
      ]
     },
     "execution_count": 3,
     "metadata": {},
     "output_type": "execute_result"
    }
   ],
   "source": [
    "v_x = -(c*K/gamma)*sin(k_w*z) + eta_x*v_z\n",
    "v_y = eta_y*v_z\n",
    "\n",
    "x = (K/gamma/k_w)*(cos(k_w*z) - 1) + eta_x*z + l_x\n",
    "y = eta_y*z + l_x\n",
    "x, y"
   ]
  },
  {
   "cell_type": "code",
   "execution_count": 4,
   "metadata": {},
   "outputs": [
    {
     "data": {
      "image/png": "[encoded data removed]",
      "text/latex": [
       "$$\\frac{1}{\\gamma^{2} k_{w}} \\left(\\frac{k_{w} z_{0}}{4} K^{2} - \\frac{K^{2}}{8} \\sin{\\left (2 k_{w} z_{0} \\right )} + K \\eta_{x} \\gamma \\left(\\cos{\\left (k_{w} z_{0} \\right )} - 1\\right) + \\frac{k_{w} z_{0}}{2} \\gamma^{2} \\left(\\eta_{x}^{2} + \\eta_{y}^{2} + 2\\right)\\right)$$"
      ],
      "text/plain": [
       " 2           2                                             2        ⎛  2      \n",
       "K ⋅k_w⋅z₀   K ⋅sin(2⋅k_w⋅z₀)                              γ ⋅k_w⋅z₀⋅⎝ηₓ  + η_y\n",
       "───────── - ──────────────── + K⋅ηₓ⋅γ⋅(cos(k_w⋅z₀) - 1) + ────────────────────\n",
       "    4              8                                                  2       \n",
       "──────────────────────────────────────────────────────────────────────────────\n",
       "                                        2                                     \n",
       "                                       γ ⋅k_w                                 \n",
       "\n",
       "2    ⎞\n",
       "  + 2⎠\n",
       "──────\n",
       "      \n",
       "──────\n",
       "      \n",
       "      "
      ]
     },
     "execution_count": 4,
     "metadata": {},
     "output_type": "execute_result"
    }
   ],
   "source": [
    "s = integrate(1 + diff((x), z)**2/2 + diff((y), z)**2/2, (z, 0, z_0))\n",
    "#s = Integral(1 + 0.5*diff((x), z_0)**2 + 0.5*diff((y), z_0)**2, (z_0, 0, z_1))\n",
    "s\n",
    "simplify(s)\n"
   ]
  },
  {
   "cell_type": "code",
   "execution_count": 9,
   "metadata": {},
   "outputs": [
    {
     "name": "stdout",
     "output_type": "stream",
     "text": [
      "K**2*z_0*sin(k_w*z_0)**2/(4*gamma**2) + K**2*z_0*cos(k_w*z_0)**2/(4*gamma**2) - K**2*sin(k_w*z_0)*cos(k_w*z_0)/(4*gamma**2*k_w) + K*eta_x*cos(k_w*z_0)/(gamma*k_w) - K*eta_x/(gamma*k_w) + eta_x**2*z_0/2 + eta_y**2*z_0/2 + z_0\n"
     ]
    }
   ],
   "source": [
    "print(s)"
   ]
  },
  {
   "cell_type": "markdown",
   "metadata": {},
   "source": [
    "Here I define a new parameter: $\\cfrac{\\beta_{avr}}{\\beta} = 1 - \\cfrac{K^2}{4\\gamma^2}$"
   ]
  },
  {
   "cell_type": "code",
   "execution_count": 5,
   "metadata": {},
   "outputs": [],
   "source": [
    "beta, beta_avr = symbols('beta, beta_avr')"
   ]
  },
  {
   "cell_type": "code",
   "execution_count": 6,
   "metadata": {},
   "outputs": [
    {
     "data": {
      "image/png": "[encoded data removed]",
      "text/latex": [
       "$$\\frac{K^{2}}{8 \\gamma^{2} k_{w}} \\sin{\\left (2 k_{w} z_{0} \\right )} + \\frac{K \\eta_{x}}{\\gamma k_{w}} \\cos{\\left (k_{w} z_{0} \\right )} - \\frac{K \\eta_{x}}{\\gamma k_{w}} + z \\left(\\frac{\\beta}{\\beta_{avr}} + \\frac{\\eta_{x}^{2}}{2} + \\frac{\\eta_{y}^{2}}{2}\\right)$$"
      ],
      "text/plain": [
       " 2                                              ⎛         2      2⎞\n",
       "K ⋅sin(2⋅k_w⋅z₀)   K⋅ηₓ⋅cos(k_w⋅z₀)    K⋅ηₓ     ⎜ β     ηₓ    η_y ⎟\n",
       "──────────────── + ──────────────── - ───── + z⋅⎜──── + ─── + ────⎟\n",
       "       2                γ⋅k_w         γ⋅k_w     ⎝βₐᵥᵣ    2     2  ⎠\n",
       "    8⋅γ ⋅k_w                                                       "
      ]
     },
     "execution_count": 6,
     "metadata": {},
     "output_type": "execute_result"
    }
   ],
   "source": [
    "s = ((beta/beta_avr + (eta_x**2+ eta_y**2)/2)*z - \n",
    "    K*eta_x/(gamma*k_w) + K**2*sin(2*k_w*z_0)/(8*gamma**2*k_w) + \n",
    "    K*eta_x*cos(k_w*z_0)/(gamma*k_w)) \n",
    "s"
   ]
  },
  {
   "cell_type": "markdown",
   "metadata": {},
   "source": [
    "Now, we obtained the expression for the abscissa of the trajectory. I am going to substitute it to the field distribution. With help."
   ]
  },
  {
   "cell_type": "code",
   "execution_count": 8,
   "metadata": {},
   "outputs": [
    {
     "data": {
      "image/png": "[encoded data removed]",
      "text/latex": [
       "$$\\left ( \\frac{K}{\\gamma k_{w}} \\left(\\cos{\\left (k_{w} z \\right )} - 1\\right) + \\eta_{x} z + l_{x}, \\quad \\eta_{y} z + l_{x}\\right )$$"
      ],
      "text/plain": [
       "⎛K⋅(cos(k_w⋅z) - 1)                        ⎞\n",
       "⎜────────────────── + ηₓ⋅z + lₓ, η_y⋅z + lₓ⎟\n",
       "⎝      γ⋅k_w                               ⎠"
      ]
     },
     "execution_count": 8,
     "metadata": {},
     "output_type": "execute_result"
    }
   ],
   "source": [
    "x, y "
   ]
  },
  {
   "cell_type": "code",
   "execution_count": 11,
   "metadata": {},
   "outputs": [
    {
     "data": {
      "image/png": "[encoded data removed]",
      "text/latex": [
       "$$\\left ( - \\frac{K c}{\\gamma} \\sin{\\left (k_{w} z \\right )} + \\eta_{x} v_{z}, \\quad \\eta_{y} v_{z}\\right )$$"
      ],
      "text/plain": [
       "⎛  K⋅c⋅sin(k_w⋅z)                  ⎞\n",
       "⎜- ────────────── + ηₓ⋅v_z, η_y⋅v_z⎟\n",
       "⎝        γ                         ⎠"
      ]
     },
     "execution_count": 11,
     "metadata": {},
     "output_type": "execute_result"
    }
   ],
   "source": [
    "v_x, v_y"
   ]
  },
  {
   "cell_type": "code",
   "execution_count": 45,
   "metadata": {},
   "outputs": [
    {
     "data": {
      "image/png": "[encoded data removed]",
      "text/latex": [
       "$$\\frac{0.5 i \\omega}{c z_{0}} \\left(\\theta_{x}^{2} + \\theta_{y}^{2} + \\frac{z_{1}}{z_{0}} \\left(\\theta_{x}^{2} + \\theta_{y}^{2}\\right) + \\frac{1}{z_{0}} \\left(2 \\theta_{x} \\left(\\frac{K}{\\gamma k_{w}} \\left(\\cos{\\left (k_{w} z \\right )} - 1\\right) + \\eta_{x} z + l_{x}\\right) + 2 \\theta_{y} \\left(\\eta_{y} z + l_{x}\\right)\\right)\\right)$$"
      ],
      "text/plain": [
       "        ⎛                                    ⎛K⋅(cos(k_w⋅z) - 1)            ⎞ \n",
       "        ⎜                ⎛  2      2⎞   2⋅θₓ⋅⎜────────────────── + ηₓ⋅z + lₓ⎟ \n",
       "        ⎜  2      2   z₁⋅⎝θₓ  + θ_y ⎠        ⎝      γ⋅k_w                   ⎠ \n",
       "0.5⋅ⅈ⋅ω⋅⎜θₓ  + θ_y  + ─────────────── + ──────────────────────────────────────\n",
       "        ⎝                    z₀                                     z₀        \n",
       "──────────────────────────────────────────────────────────────────────────────\n",
       "                                                c⋅z₀                          \n",
       "\n",
       "                    ⎞\n",
       "+ 2⋅θ_y⋅(η_y⋅z + lₓ)⎟\n",
       "                    ⎟\n",
       "────────────────────⎟\n",
       "                    ⎠\n",
       "─────────────────────\n",
       "                     "
      ]
     },
     "execution_count": 45,
     "metadata": {},
     "output_type": "execute_result"
    }
   ],
   "source": [
    "omega, z_0, theta_x, theta_y, z1 = symbols('omega, z_0, theta_x, theta_y, z1')\n",
    "phi, phi1, phi2 = symbols('phi, phi1, phi2')\n",
    "phi1 = 1j*omega/2/c/z_0 * ((theta_x**2 + theta_y**2) + \n",
    "                           2*(theta_x*x + theta_y*y)/z_0 + \n",
    "                           (theta_x**2 + theta_y**2)*z1/z_0)\n",
    "phi1\n",
    "#z1 := z^{prime}"
   ]
  },
  {
   "cell_type": "code",
   "execution_count": 53,
   "metadata": {},
   "outputs": [
    {
     "data": {
      "image/png": "[encoded data removed]",
      "text/latex": [
       "$$\\frac{1.0 i}{c} \\omega \\left(\\frac{K^{2}}{8 \\gamma^{2} k_{w}} \\sin{\\left (2 k_{w} z_{0} \\right )} + \\frac{K \\eta_{x}}{\\gamma k_{w}} \\cos{\\left (k_{w} z_{0} \\right )} + \\frac{K \\eta_{x}}{\\gamma k_{w}} + \\frac{1}{2} \\operatorname{z_{1}}{\\left (\\eta_{x}^{2} + \\eta_{y}^{2} \\right )}\\right)$$"
      ],
      "text/plain": [
       "        ⎛ 2                                              ⎛  2      2⎞⎞\n",
       "        ⎜K ⋅sin(2⋅k_w⋅z₀)   K⋅ηₓ⋅cos(k_w⋅z₀)    K⋅ηₓ   z₁⎝ηₓ  + η_y ⎠⎟\n",
       "1.0⋅ⅈ⋅ω⋅⎜──────────────── + ──────────────── + ───── + ──────────────⎟\n",
       "        ⎜       2                γ⋅k_w         γ⋅k_w         2       ⎟\n",
       "        ⎝    8⋅γ ⋅k_w                                                ⎠\n",
       "──────────────────────────────────────────────────────────────────────\n",
       "                                  c                                   "
      ]
     },
     "execution_count": 53,
     "metadata": {},
     "output_type": "execute_result"
    }
   ],
   "source": [
    "phi2 = 1j*(omega/c)*(z1(eta_x**2 + eta_y**2 )/2 + \n",
    "                K*eta_x/(gamma*k_w) + \n",
    "                K**2*sin(2*k_w*z_0)/(8*gamma**2*k_w) + \n",
    "                K*eta_x*cos(k_w*z_0)/(gamma*k_w))\n",
    "phi2"
   ]
  },
  {
   "cell_type": "code",
   "execution_count": 65,
   "metadata": {},
   "outputs": [
    {
     "data": {
      "image/png": "[encoded data removed]",
      "text/latex": [
       "$$\\frac{0.5 i \\omega}{c z_{0}} \\left(\\theta_{x}^{2} + \\theta_{y}^{2} + \\frac{z_{1}}{z_{0}} \\left(\\theta_{x}^{2} + \\theta_{y}^{2}\\right) + \\frac{1}{z_{0}} \\left(2 \\theta_{x} \\left(\\frac{K}{\\gamma k_{w}} \\left(\\cos{\\left (k_{w} z \\right )} - 1\\right) + \\eta_{x} z + l_{x}\\right) + 2 \\theta_{y} \\left(\\eta_{y} z + l_{x}\\right)\\right)\\right)$$"
      ],
      "text/plain": [
       "        ⎛                                    ⎛K⋅(cos(k_w⋅z) - 1)            ⎞ \n",
       "        ⎜                ⎛  2      2⎞   2⋅θₓ⋅⎜────────────────── + ηₓ⋅z + lₓ⎟ \n",
       "        ⎜  2      2   z₁⋅⎝θₓ  + θ_y ⎠        ⎝      γ⋅k_w                   ⎠ \n",
       "0.5⋅ⅈ⋅ω⋅⎜θₓ  + θ_y  + ─────────────── + ──────────────────────────────────────\n",
       "        ⎝                    z₀                                     z₀        \n",
       "──────────────────────────────────────────────────────────────────────────────\n",
       "                                                c⋅z₀                          \n",
       "\n",
       "                    ⎞\n",
       "+ 2⋅θ_y⋅(η_y⋅z + lₓ)⎟\n",
       "                    ⎟\n",
       "────────────────────⎟\n",
       "                    ⎠\n",
       "─────────────────────\n",
       "                     "
      ]
     },
     "execution_count": 65,
     "metadata": {},
     "output_type": "execute_result"
    }
   ],
   "source": [
    "collect(phi1, z_1)"
   ]
  },
  {
   "cell_type": "code",
   "execution_count": 66,
   "metadata": {},
   "outputs": [
    {
     "data": {
      "image/png": "[encoded data removed]",
      "text/latex": [
       "$$\\frac{1.0 i}{c} \\omega \\left(\\frac{K^{2}}{8 \\gamma^{2} k_{w}} \\sin{\\left (2 k_{w} z_{0} \\right )} + \\frac{K \\eta_{x}}{\\gamma k_{w}} \\cos{\\left (k_{w} z_{0} \\right )} + \\frac{K \\eta_{x}}{\\gamma k_{w}} + \\frac{1}{2} \\operatorname{z_{1}}{\\left (\\eta_{x}^{2} + \\eta_{y}^{2} \\right )}\\right)$$"
      ],
      "text/plain": [
       "        ⎛ 2                                              ⎛  2      2⎞⎞\n",
       "        ⎜K ⋅sin(2⋅k_w⋅z₀)   K⋅ηₓ⋅cos(k_w⋅z₀)    K⋅ηₓ   z₁⎝ηₓ  + η_y ⎠⎟\n",
       "1.0⋅ⅈ⋅ω⋅⎜──────────────── + ──────────────── + ───── + ──────────────⎟\n",
       "        ⎜       2                γ⋅k_w         γ⋅k_w         2       ⎟\n",
       "        ⎝    8⋅γ ⋅k_w                                                ⎠\n",
       "──────────────────────────────────────────────────────────────────────\n",
       "                                  c                                   "
      ]
     },
     "execution_count": 66,
     "metadata": {},
     "output_type": "execute_result"
    }
   ],
   "source": [
    "collect(phi2, z_1)"
   ]
  }
 ],
 "metadata": {
  "kernelspec": {
   "display_name": "Python 3",
   "language": "python",
   "name": "python3"
  },
  "language_info": {
   "codemirror_mode": {
    "name": "ipython",
    "version": 3
   },
   "file_extension": ".py",
   "mimetype": "text/x-python",
   "name": "python",
   "nbconvert_exporter": "python",
   "pygments_lexer": "ipython3",
   "version": "3.6.4"
  }
 },
 "nbformat": 4,
 "nbformat_minor": 2
}
