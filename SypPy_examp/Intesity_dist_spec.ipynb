{
 "cells": [
  {
   "cell_type": "markdown",
   "metadata": {},
   "source": [
    "This is a part with a graphs for my diploma"
   ]
  },
  {
   "cell_type": "code",
   "execution_count": 1,
   "metadata": {},
   "outputs": [],
   "source": [
    "from sympy import*\n",
    "from sympy import plot\n",
    "import numpy as np\n",
    "import matplotlib.pyplot as plt\n",
    "init_printing()"
   ]
  },
  {
   "cell_type": "code",
   "execution_count": 2,
   "metadata": {},
   "outputs": [],
   "source": [
    "I, I1, I2, Delta_w, w, w_r, theta, rel = symbols('I, I1, I2, Delta_w, w, w_r, theta, rel')\n",
    "k_w, lambda_w, L, c, gamma_bar = symbols('k_w, lambda_w, L, c, gamma_bar')"
   ]
  },
  {
   "cell_type": "code",
   "execution_count": 3,
   "metadata": {
    "scrolled": true
   },
   "outputs": [
    {
     "name": "stdout",
     "output_type": "stream",
     "text": [
      "sinc(L*(rel*(3600000000.0*pi*theta**2 + 100.0*pi) + 3600000000.0*pi*theta**2)/2)**2\n"
     ]
    }
   ],
   "source": [
    "c = 299792458 #m/s\n",
    "#L = 1.5 #m\n",
    "lambda_w = 20 * 1e-3 #m undulator period length\n",
    "gamma_bar = 6000 #Ebeam/m_e\n",
    "k_w = 2*pi/lambda_w\n",
    "w_r = 2*c*gamma_bar**2*k_w #resonant frequency\n",
    "\n",
    "#theta = -0.00000\n",
    "I = (sinc(((k_w + w_r*theta**2/(2*c))*rel + w_r*theta**2/2/c)*L/2))**2\n",
    "#P = plot(I, (rel, -0.05, 0.05), adaptive=False, nb_of_points=400, show=False,\n",
    "#         xlabel=r'$\\mathrm{\\Delta\\omega / \\omega}$',\n",
    "#         ylabel=r'$\\mathrm{I/I_0}$',\n",
    "#         line_color='black')#, show=False)\n",
    "\n",
    "#P.save('/home/andrei/Desktop/spec.pdf')\n",
    "print(I)"
   ]
  },
  {
   "cell_type": "code",
   "execution_count": 2,
   "metadata": {},
   "outputs": [
    {
     "data": {
      "image/png": "[encoded data removed]",
      "text/plain": [
       "<matplotlib.figure.Figure at 0x7f7f4832eeb8>"
      ]
     },
     "metadata": {},
     "output_type": "display_data"
    }
   ],
   "source": [
    "def Intens(rel, theta, L):\n",
    "    return np.sinc((0.75*rel*(3600000000.0*np.pi*theta**2 + 100.0*np.pi) + 2700000000.0*np.pi*theta**2)*L/2)**2\n",
    "\n",
    "rel = np.arange(-0.025,0.025, 0.00001)\n",
    "theta = 0\n",
    "L = 1.5\n",
    "plt.plot(rel, Intens(rel,theta, L), color='blue')\n",
    "plt.xlabel(r'$\\Delta\\omega/\\omega$', fontsize=14, labelpad = 0.0)\n",
    "y = plt.ylabel(r'$I/I_0$', fontsize=14, labelpad = 0.0, rotation=90)\n",
    "y.set_rotation(0)\n",
    "\n",
    "plt.xticks([-0.02, -0.01, 0, 0.01, 0.02])\n",
    "        #  [r'$-\\pi$', r'$-\\pi/2$', r'$0$', r'$+\\pi/2$', r'$+\\pi$'])\n",
    "\n",
    "plt.yticks([0.2, 0.4,0.6,0.8, 1.0])\n",
    "        #  [r'$-1$', r'$0$', r'$+1$'])\n",
    "        \n",
    "ax = plt.gca()\n",
    "ax.spines['right'].set_color('none')\n",
    "ax.spines['top'].set_color('none')\n",
    "ax.xaxis.set_ticks_position('bottom')\n",
    "ax.spines['bottom'].set_position(('data',0))\n",
    "ax.yaxis.set_ticks_position('left')\n",
    "ax.spines['left'].set_position(('data',0))\n",
    "ax.xaxis.set_label_coords(1, 0.03)\n",
    "ax.yaxis.set_label_coords(0.465, 1.0)\n",
    "for label in ax.get_xticklabels() + ax.get_yticklabels():\n",
    "    label.set_fontsize(12)\n",
    "    label.set_bbox(dict(facecolor='white', edgecolor='None', alpha=0.01))\n",
    "    \n",
    "plt.savefig('/home/andrei/Desktop/spec.pdf')\n",
    "plt.show()"
   ]
  },
  {
   "cell_type": "code",
   "execution_count": null,
   "metadata": {},
   "outputs": [],
   "source": []
  }
 ],
 "metadata": {
  "kernelspec": {
   "display_name": "Python 3",
   "language": "python",
   "name": "python3"
  },
  "language_info": {
   "codemirror_mode": {
    "name": "ipython",
    "version": 3
   },
   "file_extension": ".py",
   "mimetype": "text/x-python",
   "name": "python",
   "nbconvert_exporter": "python",
   "pygments_lexer": "ipython3",
   "version": "3.6.4"
  }
 },
 "nbformat": 4,
 "nbformat_minor": 2
}
