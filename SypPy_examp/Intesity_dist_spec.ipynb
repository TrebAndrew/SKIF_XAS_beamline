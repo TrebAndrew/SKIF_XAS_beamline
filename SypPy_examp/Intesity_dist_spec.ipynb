{
 "cells": [
  {
   "cell_type": "markdown",
   "metadata": {},
   "source": [
    "This is a part with a graphs for my diploma"
   ]
  },
  {
   "cell_type": "code",
   "execution_count": 9,
   "metadata": {},
   "outputs": [],
   "source": [
    "from sympy import*\n",
    "from sympy import plot\n",
    "import numpy as np\n",
    "import matplotlib.pyplot as plt\n",
    "init_printing()"
   ]
  },
  {
   "cell_type": "code",
   "execution_count": 10,
   "metadata": {},
   "outputs": [],
   "source": [
    "I, I1, I2, Delta_w, w, w_r, theta, rel = symbols('I, I1, I2, Delta_w, w, w_r, theta, rel')\n",
    "k_w, lambda_w, L, c, gamma_bar = symbols('k_w, lambda_w, L, c, gamma_bar')"
   ]
  },
  {
   "cell_type": "code",
   "execution_count": 11,
   "metadata": {
    "scrolled": true
   },
   "outputs": [
    {
     "name": "stdout",
     "output_type": "stream",
     "text": [
      "sinc(L*(rel*(3600000000.0*pi*theta**2 + 100.0*pi) + 3600000000.0*pi*theta**2)/2)**2\n"
     ]
    }
   ],
   "source": [
    "c = 299792458 #m/s\n",
    "#L = 1.5 #m\n",
    "lambda_w = 20 * 1e-3 #m undulator period length\n",
    "gamma_bar = 6000 #Ebeam/m_e\n",
    "k_w = 2*pi/lambda_w\n",
    "w_r = 2*c*gamma_bar**2*k_w #resonant frequency\n",
    "\n",
    "#theta = -0.00000\n",
    "I = (sinc(((k_w + w_r*theta**2/(2*c))*rel + w_r*theta**2/2/c)*L/2))**2\n",
    "#P = plot(I, (rel, -0.05, 0.05), adaptive=False, nb_of_points=400, show=False,\n",
    "#         xlabel=r'$\\mathrm{\\Delta\\omega / \\omega}$',\n",
    "#         ylabel=r'$\\mathrm{I/I_0}$',\n",
    "#         line_color='black')#, show=False)\n",
    "\n",
    "#P.save('/home/andrei/Desktop/spec.pdf')\n",
    "print(I)"
   ]
  },
  {
   "cell_type": "code",
   "execution_count": 12,
   "metadata": {
    "scrolled": true
   },
   "outputs": [
    {
     "data": {
      "image/png": "[encoded data removed]",
      "text/plain": [
       "<matplotlib.figure.Figure at 0x7f520c24f6d8>"
      ]
     },
     "metadata": {},
     "output_type": "display_data"
    }
   ],
   "source": [
    "def Intens(rel, theta, L):\n",
    "    return np.sinc((0.75*rel*(3600000000.0*np.pi*theta**2 + 100.0*np.pi) + 2700000000.0*np.pi*theta**2)*L/2)**2\n",
    "\n",
    "rel = np.arange(-0.025,0.025, 0.00001)\n",
    "theta = 0\n",
    "L = 1.5\n",
    "plt.figure(figsize=(1.5*4,1.5*3))\n",
    "plt.plot(rel, Intens(rel,theta, L), color='blue')\n",
    "plt.xlabel(r'$\\Delta\\omega/\\omega$', fontsize=14, labelpad = 0.0)\n",
    "y = plt.ylabel(r'$I/I_0$', fontsize=14, labelpad = 0.0, rotation=90)\n",
    "y.set_rotation(0)\n",
    "\n",
    "plt.xticks([-0.02, -0.01, 0, 0.01, 0.02],fontsize=14)\n",
    "        #  [r'$-\\pi$', r'$-\\pi/2$', r'$0$', r'$+\\pi/2$', r'$+\\pi$'])\n",
    "\n",
    "plt.yticks([0.2, 0.4,0.6,0.8, 1.0], fontsize=14)\n",
    "        #  [r'$-1$', r'$0$', r'$+1$'])\n",
    "        \n",
    "ax = plt.gca()\n",
    "ax.spines['right'].set_color('none')\n",
    "ax.spines['top'].set_color('none')\n",
    "ax.xaxis.set_ticks_position('bottom')\n",
    "ax.spines['bottom'].set_position(('data',0))\n",
    "ax.yaxis.set_ticks_position('left')\n",
    "ax.spines['left'].set_position(('data',0))\n",
    "ax.xaxis.set_label_coords(1, 0.025)\n",
    "ax.yaxis.set_label_coords(0.465, 1.0)\n",
    "for label in ax.get_xticklabels() + ax.get_yticklabels():\n",
    "    label.set_fontsize(15)\n",
    "    label.set_bbox(dict(facecolor='white', edgecolor='None', alpha=0.01))\n",
    "\n",
    "plt.tight_layout()\n",
    "plt.savefig('/home/andrei/Documents/SKIF_XAS_beamline/TeXDoc/pic/spec.pdf')#, bbox_inches='tight')\n",
    "plt.show()"
   ]
  },
  {
   "cell_type": "markdown",
   "metadata": {},
   "source": [
    "The same graphs in normilised units $\\hat{C} = CL = 2\\pi N\\cfrac{\\Delta\\omega}{\\omega_r}$ and $\\hat{\\theta} = \\theta\\sqrt{\\cfrac{\\omega L}{c}}$\n",
    "\n",
    "Field distribution is: $\\hat{E}_{\\bot} = e^{i\\Phi}\n",
    "\t\t\\cfrac{\\sin\\bigg(\\cfrac{\\hat{C}}{2} + \n",
    "\t\t\\cfrac{\\hat{\\theta}^2}{4}\\bigg)}{\\cfrac{\\hat{C}}{2} + \n",
    "\t\t\\cfrac{\\hat{\\theta}^2}{4}}$"
   ]
  },
  {
   "cell_type": "code",
   "execution_count": 32,
   "metadata": {
    "scrolled": true
   },
   "outputs": [
    {
     "data": {
      "image/png": "[encoded data removed]",
      "text/plain": [
       "<matplotlib.figure.Figure at 0x7fed9c83aa58>"
      ]
     },
     "metadata": {},
     "output_type": "display_data"
    }
   ],
   "source": [
    "def Inten(C, theta):\n",
    "    return (np.sinc(C/2 + theta**2/4))**2\n",
    "\n",
    "C = np.arange(-6.5,6.5, 0.1)\n",
    "theta = np.arange(-6.5,6.5, 0.1)\n",
    "theta = 0\n",
    "plt.figure(figsize=(1.5*4,1.5*3))\n",
    "plt.plot(C, Inten(C, theta), color='blue')\n",
    "\n",
    "plt.xlabel(r'$\\hat{C}$', fontsize=14, labelpad = 0.0)\n",
    "y = plt.ylabel(r'$I/I_0$', fontsize=14, labelpad = 0.0, rotation=90)\n",
    "y.set_rotation(0)\n",
    "\n",
    "plt.xticks([-6, -4, -2, 0, 2, 4],fontsize=14)\n",
    "        #  [r'$-\\pi$', r'$-\\pi/2$', r'$0$', r'$+\\pi/2$', r'$+\\pi$'])\n",
    "\n",
    "plt.yticks([0.2, 0.4,0.6,0.8, 1.0], fontsize=14)\n",
    "        #  [r'$-1$', r'$0$', r'$+1$'])\n",
    "        \n",
    "ax = plt.gca()\n",
    "ax.spines['right'].set_color('none')\n",
    "ax.spines['top'].set_color('none')\n",
    "ax.xaxis.set_ticks_position('bottom')\n",
    "ax.spines['top'].set_position(('axes',0))\n",
    "ax.yaxis.set_ticks_position('left')\n",
    "ax.spines['top'].set_position(('data',0))\n",
    "ax.xaxis.set_label_coords(0.98, -0.05)\n",
    "ax.yaxis.set_label_coords(-0.03, 0.98)\n",
    "for label in ax.get_xticklabels() + ax.get_yticklabels():\n",
    "    label.set_fontsize(12)\n",
    "    label.set_bbox(dict(facecolor='white', edgecolor='None', alpha=0.01))\n",
    "\n",
    "plt.xlim(-6, 6)\n",
    "plt.ylim(0, 1.1)\n",
    "plt.tight_layout()\n",
    "plt.savefig('/home/andrei/Documents/SKIF_XAS_beamline/TeXDoc/pic/spec_C.pdf')#, bbox_inches='tight')\n",
    "plt.show()"
   ]
  },
  {
   "cell_type": "markdown",
   "metadata": {},
   "source": [
    "Intergrate over angles"
   ]
  },
  {
   "cell_type": "code",
   "execution_count": 2,
   "metadata": {},
   "outputs": [],
   "source": [
    "from sympy import*\n",
    "from sympy import plot\n",
    "from scipy import integrate\n",
    "import numpy as np\n",
    "import matplotlib.pyplot as plt\n",
    "init_printing()\n",
    "\n",
    "f = lambda theta, C : (sinc(C/2 + theta**2/4))**2\n",
    "#y, err = integrate.quad(f, -10, 10, args=(0,))\n",
    "\n",
    "C = np.linspace(-145, 30, 200)\n",
    "Integral_pinhole_16 = []\n",
    "for c in C:\n",
    "    y, err = integrate.quad(f, -16, 16, args=(c,))\n",
    "    Integral_pinhole_16.append(y)\n",
    "\n",
    "Integral_pinhole_1 = []\n",
    "for c in C:\n",
    "    y, err = integrate.quad(f, -1, 1, args=(c,))\n",
    "    Integral_pinhole_1.append(y)\n",
    "    \n",
    "Integral_pinhole_4 = []\n",
    "for c in C:\n",
    "    y, err = integrate.quad(f, -4, 4, args=(c,))\n",
    "    Integral_pinhole_4.append(y)\n",
    "\n",
    "Integral_pinhole_8 = []\n",
    "for c in C:\n",
    "    y, err = integrate.quad(f, -8, 8, args=(c,))\n",
    "    Integral_pinhole_8.append(y)\n",
    "    \n",
    "Integral_pinhole_12 = []\n",
    "for c in C:\n",
    "    y, err = integrate.quad(f, -12, 12, args=(c,))\n",
    "    Integral_pinhole_12.append(y)\n",
    "\n",
    "Integral_pinhole_0_5 = []\n",
    "for c in C:\n",
    "    y, err = integrate.quad(f, -0.5, 0.5, args=(c,))\n",
    "    Integral_pinhole_0_5.append(y)"
   ]
  },
  {
   "cell_type": "code",
   "execution_count": 26,
   "metadata": {},
   "outputs": [
    {
     "ename": "ValueError",
     "evalue": "x and y must have same first dimension, but have shapes (130,) and (200,)",
     "output_type": "error",
     "traceback": [
      "\u001b[0;31m---------------------------------------------------------------------------\u001b[0m",
      "\u001b[0;31mValueError\u001b[0m                                Traceback (most recent call last)",
      "\u001b[0;32m<ipython-input-26-bbb16c1c9366>\u001b[0m in \u001b[0;36m<module>\u001b[0;34m()\u001b[0m\n\u001b[1;32m      1\u001b[0m \u001b[0mplt\u001b[0m\u001b[0;34m.\u001b[0m\u001b[0mfigure\u001b[0m\u001b[0;34m(\u001b[0m\u001b[0mfigsize\u001b[0m\u001b[0;34m=\u001b[0m\u001b[0;34m(\u001b[0m\u001b[0;36m2\u001b[0m\u001b[0;34m*\u001b[0m\u001b[0;36m4\u001b[0m\u001b[0;34m,\u001b[0m\u001b[0;36m1.5\u001b[0m\u001b[0;34m*\u001b[0m\u001b[0;36m3\u001b[0m\u001b[0;34m)\u001b[0m\u001b[0;34m)\u001b[0m\u001b[0;34m\u001b[0m\u001b[0m\n\u001b[0;32m----> 2\u001b[0;31m \u001b[0mplt\u001b[0m\u001b[0;34m.\u001b[0m\u001b[0mplot\u001b[0m\u001b[0;34m(\u001b[0m\u001b[0mC\u001b[0m\u001b[0;34m,\u001b[0m \u001b[0mIntegral_pinhole_16\u001b[0m\u001b[0;34m/\u001b[0m\u001b[0mnp\u001b[0m\u001b[0;34m.\u001b[0m\u001b[0mmax\u001b[0m\u001b[0;34m(\u001b[0m\u001b[0mIntegral_pinhole_16\u001b[0m\u001b[0;34m)\u001b[0m\u001b[0;34m,\u001b[0m \u001b[0mcolor\u001b[0m\u001b[0;34m=\u001b[0m\u001b[0;34m'black'\u001b[0m\u001b[0;34m,\u001b[0m \u001b[0mlabel\u001b[0m\u001b[0;34m=\u001b[0m\u001b[0;34mr'$\\hat{\\theta} = 16$'\u001b[0m\u001b[0;34m)\u001b[0m\u001b[0;34m\u001b[0m\u001b[0m\n\u001b[0m\u001b[1;32m      3\u001b[0m \u001b[0mplt\u001b[0m\u001b[0;34m.\u001b[0m\u001b[0mplot\u001b[0m\u001b[0;34m(\u001b[0m\u001b[0mC\u001b[0m\u001b[0;34m,\u001b[0m \u001b[0mIntegral_pinhole_12\u001b[0m\u001b[0;34m/\u001b[0m\u001b[0mnp\u001b[0m\u001b[0;34m.\u001b[0m\u001b[0mmax\u001b[0m\u001b[0;34m(\u001b[0m\u001b[0mIntegral_pinhole_16\u001b[0m\u001b[0;34m)\u001b[0m\u001b[0;34m,\u001b[0m \u001b[0mcolor\u001b[0m\u001b[0;34m=\u001b[0m\u001b[0;34m'blue'\u001b[0m\u001b[0;34m,\u001b[0m \u001b[0mlinestyle\u001b[0m\u001b[0;34m=\u001b[0m\u001b[0;34m'--'\u001b[0m\u001b[0;34m,\u001b[0m \u001b[0mlabel\u001b[0m\u001b[0;34m=\u001b[0m\u001b[0;34mr'$\\hat{\\theta} = 12$'\u001b[0m\u001b[0;34m)\u001b[0m\u001b[0;34m\u001b[0m\u001b[0m\n\u001b[1;32m      4\u001b[0m \u001b[0mplt\u001b[0m\u001b[0;34m.\u001b[0m\u001b[0mplot\u001b[0m\u001b[0;34m(\u001b[0m\u001b[0mC\u001b[0m\u001b[0;34m,\u001b[0m \u001b[0mIntegral_pinhole_8\u001b[0m\u001b[0;34m/\u001b[0m\u001b[0mnp\u001b[0m\u001b[0;34m.\u001b[0m\u001b[0mmax\u001b[0m\u001b[0;34m(\u001b[0m\u001b[0mIntegral_pinhole_16\u001b[0m\u001b[0;34m)\u001b[0m\u001b[0;34m,\u001b[0m \u001b[0mcolor\u001b[0m\u001b[0;34m=\u001b[0m\u001b[0;34m'green'\u001b[0m\u001b[0;34m,\u001b[0m\u001b[0mlinestyle\u001b[0m\u001b[0;34m=\u001b[0m\u001b[0;34m'-.'\u001b[0m\u001b[0;34m,\u001b[0m \u001b[0mlabel\u001b[0m\u001b[0;34m=\u001b[0m\u001b[0;34mr'$\\hat{\\theta} = 8$'\u001b[0m\u001b[0;34m)\u001b[0m\u001b[0;34m\u001b[0m\u001b[0m\n\u001b[1;32m      5\u001b[0m \u001b[0mplt\u001b[0m\u001b[0;34m.\u001b[0m\u001b[0mplot\u001b[0m\u001b[0;34m(\u001b[0m\u001b[0mC\u001b[0m\u001b[0;34m,\u001b[0m \u001b[0mIntegral_pinhole_4\u001b[0m\u001b[0;34m/\u001b[0m\u001b[0mnp\u001b[0m\u001b[0;34m.\u001b[0m\u001b[0mmax\u001b[0m\u001b[0;34m(\u001b[0m\u001b[0mIntegral_pinhole_16\u001b[0m\u001b[0;34m)\u001b[0m\u001b[0;34m,\u001b[0m \u001b[0mcolor\u001b[0m\u001b[0;34m=\u001b[0m\u001b[0;34m'red'\u001b[0m\u001b[0;34m,\u001b[0m\u001b[0mlinestyle\u001b[0m\u001b[0;34m=\u001b[0m\u001b[0;34m':'\u001b[0m\u001b[0;34m,\u001b[0m \u001b[0mlabel\u001b[0m\u001b[0;34m=\u001b[0m\u001b[0;34mr'$\\hat{\\theta} = 4$'\u001b[0m\u001b[0;34m)\u001b[0m\u001b[0;34m\u001b[0m\u001b[0m\n",
      "\u001b[0;32m~/anaconda3/lib/python3.6/site-packages/matplotlib/pyplot.py\u001b[0m in \u001b[0;36mplot\u001b[0;34m(*args, **kwargs)\u001b[0m\n\u001b[1;32m   3259\u001b[0m                       mplDeprecation)\n\u001b[1;32m   3260\u001b[0m     \u001b[0;32mtry\u001b[0m\u001b[0;34m:\u001b[0m\u001b[0;34m\u001b[0m\u001b[0m\n\u001b[0;32m-> 3261\u001b[0;31m         \u001b[0mret\u001b[0m \u001b[0;34m=\u001b[0m \u001b[0max\u001b[0m\u001b[0;34m.\u001b[0m\u001b[0mplot\u001b[0m\u001b[0;34m(\u001b[0m\u001b[0;34m*\u001b[0m\u001b[0margs\u001b[0m\u001b[0;34m,\u001b[0m \u001b[0;34m**\u001b[0m\u001b[0mkwargs\u001b[0m\u001b[0;34m)\u001b[0m\u001b[0;34m\u001b[0m\u001b[0m\n\u001b[0m\u001b[1;32m   3262\u001b[0m     \u001b[0;32mfinally\u001b[0m\u001b[0;34m:\u001b[0m\u001b[0;34m\u001b[0m\u001b[0m\n\u001b[1;32m   3263\u001b[0m         \u001b[0max\u001b[0m\u001b[0;34m.\u001b[0m\u001b[0m_hold\u001b[0m \u001b[0;34m=\u001b[0m \u001b[0mwashold\u001b[0m\u001b[0;34m\u001b[0m\u001b[0m\n",
      "\u001b[0;32m~/anaconda3/lib/python3.6/site-packages/matplotlib/__init__.py\u001b[0m in \u001b[0;36minner\u001b[0;34m(ax, *args, **kwargs)\u001b[0m\n\u001b[1;32m   1715\u001b[0m                     warnings.warn(msg % (label_namer, func.__name__),\n\u001b[1;32m   1716\u001b[0m                                   RuntimeWarning, stacklevel=2)\n\u001b[0;32m-> 1717\u001b[0;31m             \u001b[0;32mreturn\u001b[0m \u001b[0mfunc\u001b[0m\u001b[0;34m(\u001b[0m\u001b[0max\u001b[0m\u001b[0;34m,\u001b[0m \u001b[0;34m*\u001b[0m\u001b[0margs\u001b[0m\u001b[0;34m,\u001b[0m \u001b[0;34m**\u001b[0m\u001b[0mkwargs\u001b[0m\u001b[0;34m)\u001b[0m\u001b[0;34m\u001b[0m\u001b[0m\n\u001b[0m\u001b[1;32m   1718\u001b[0m         \u001b[0mpre_doc\u001b[0m \u001b[0;34m=\u001b[0m \u001b[0minner\u001b[0m\u001b[0;34m.\u001b[0m\u001b[0m__doc__\u001b[0m\u001b[0;34m\u001b[0m\u001b[0m\n\u001b[1;32m   1719\u001b[0m         \u001b[0;32mif\u001b[0m \u001b[0mpre_doc\u001b[0m \u001b[0;32mis\u001b[0m \u001b[0;32mNone\u001b[0m\u001b[0;34m:\u001b[0m\u001b[0;34m\u001b[0m\u001b[0m\n",
      "\u001b[0;32m~/anaconda3/lib/python3.6/site-packages/matplotlib/axes/_axes.py\u001b[0m in \u001b[0;36mplot\u001b[0;34m(self, *args, **kwargs)\u001b[0m\n\u001b[1;32m   1370\u001b[0m         \u001b[0mkwargs\u001b[0m \u001b[0;34m=\u001b[0m \u001b[0mcbook\u001b[0m\u001b[0;34m.\u001b[0m\u001b[0mnormalize_kwargs\u001b[0m\u001b[0;34m(\u001b[0m\u001b[0mkwargs\u001b[0m\u001b[0;34m,\u001b[0m \u001b[0m_alias_map\u001b[0m\u001b[0;34m)\u001b[0m\u001b[0;34m\u001b[0m\u001b[0m\n\u001b[1;32m   1371\u001b[0m \u001b[0;34m\u001b[0m\u001b[0m\n\u001b[0;32m-> 1372\u001b[0;31m         \u001b[0;32mfor\u001b[0m \u001b[0mline\u001b[0m \u001b[0;32min\u001b[0m \u001b[0mself\u001b[0m\u001b[0;34m.\u001b[0m\u001b[0m_get_lines\u001b[0m\u001b[0;34m(\u001b[0m\u001b[0;34m*\u001b[0m\u001b[0margs\u001b[0m\u001b[0;34m,\u001b[0m \u001b[0;34m**\u001b[0m\u001b[0mkwargs\u001b[0m\u001b[0;34m)\u001b[0m\u001b[0;34m:\u001b[0m\u001b[0;34m\u001b[0m\u001b[0m\n\u001b[0m\u001b[1;32m   1373\u001b[0m             \u001b[0mself\u001b[0m\u001b[0;34m.\u001b[0m\u001b[0madd_line\u001b[0m\u001b[0;34m(\u001b[0m\u001b[0mline\u001b[0m\u001b[0;34m)\u001b[0m\u001b[0;34m\u001b[0m\u001b[0m\n\u001b[1;32m   1374\u001b[0m             \u001b[0mlines\u001b[0m\u001b[0;34m.\u001b[0m\u001b[0mappend\u001b[0m\u001b[0;34m(\u001b[0m\u001b[0mline\u001b[0m\u001b[0;34m)\u001b[0m\u001b[0;34m\u001b[0m\u001b[0m\n",
      "\u001b[0;32m~/anaconda3/lib/python3.6/site-packages/matplotlib/axes/_base.py\u001b[0m in \u001b[0;36m_grab_next_args\u001b[0;34m(self, *args, **kwargs)\u001b[0m\n\u001b[1;32m    402\u001b[0m                 \u001b[0mthis\u001b[0m \u001b[0;34m+=\u001b[0m \u001b[0margs\u001b[0m\u001b[0;34m[\u001b[0m\u001b[0;36m0\u001b[0m\u001b[0;34m]\u001b[0m\u001b[0;34m,\u001b[0m\u001b[0;34m\u001b[0m\u001b[0m\n\u001b[1;32m    403\u001b[0m                 \u001b[0margs\u001b[0m \u001b[0;34m=\u001b[0m \u001b[0margs\u001b[0m\u001b[0;34m[\u001b[0m\u001b[0;36m1\u001b[0m\u001b[0;34m:\u001b[0m\u001b[0;34m]\u001b[0m\u001b[0;34m\u001b[0m\u001b[0m\n\u001b[0;32m--> 404\u001b[0;31m             \u001b[0;32mfor\u001b[0m \u001b[0mseg\u001b[0m \u001b[0;32min\u001b[0m \u001b[0mself\u001b[0m\u001b[0;34m.\u001b[0m\u001b[0m_plot_args\u001b[0m\u001b[0;34m(\u001b[0m\u001b[0mthis\u001b[0m\u001b[0;34m,\u001b[0m \u001b[0mkwargs\u001b[0m\u001b[0;34m)\u001b[0m\u001b[0;34m:\u001b[0m\u001b[0;34m\u001b[0m\u001b[0m\n\u001b[0m\u001b[1;32m    405\u001b[0m                 \u001b[0;32myield\u001b[0m \u001b[0mseg\u001b[0m\u001b[0;34m\u001b[0m\u001b[0m\n\u001b[1;32m    406\u001b[0m \u001b[0;34m\u001b[0m\u001b[0m\n",
      "\u001b[0;32m~/anaconda3/lib/python3.6/site-packages/matplotlib/axes/_base.py\u001b[0m in \u001b[0;36m_plot_args\u001b[0;34m(self, tup, kwargs)\u001b[0m\n\u001b[1;32m    382\u001b[0m             \u001b[0mx\u001b[0m\u001b[0;34m,\u001b[0m \u001b[0my\u001b[0m \u001b[0;34m=\u001b[0m \u001b[0mindex_of\u001b[0m\u001b[0;34m(\u001b[0m\u001b[0mtup\u001b[0m\u001b[0;34m[\u001b[0m\u001b[0;34m-\u001b[0m\u001b[0;36m1\u001b[0m\u001b[0;34m]\u001b[0m\u001b[0;34m)\u001b[0m\u001b[0;34m\u001b[0m\u001b[0m\n\u001b[1;32m    383\u001b[0m \u001b[0;34m\u001b[0m\u001b[0m\n\u001b[0;32m--> 384\u001b[0;31m         \u001b[0mx\u001b[0m\u001b[0;34m,\u001b[0m \u001b[0my\u001b[0m \u001b[0;34m=\u001b[0m \u001b[0mself\u001b[0m\u001b[0;34m.\u001b[0m\u001b[0m_xy_from_xy\u001b[0m\u001b[0;34m(\u001b[0m\u001b[0mx\u001b[0m\u001b[0;34m,\u001b[0m \u001b[0my\u001b[0m\u001b[0;34m)\u001b[0m\u001b[0;34m\u001b[0m\u001b[0m\n\u001b[0m\u001b[1;32m    385\u001b[0m \u001b[0;34m\u001b[0m\u001b[0m\n\u001b[1;32m    386\u001b[0m         \u001b[0;32mif\u001b[0m \u001b[0mself\u001b[0m\u001b[0;34m.\u001b[0m\u001b[0mcommand\u001b[0m \u001b[0;34m==\u001b[0m \u001b[0;34m'plot'\u001b[0m\u001b[0;34m:\u001b[0m\u001b[0;34m\u001b[0m\u001b[0m\n",
      "\u001b[0;32m~/anaconda3/lib/python3.6/site-packages/matplotlib/axes/_base.py\u001b[0m in \u001b[0;36m_xy_from_xy\u001b[0;34m(self, x, y)\u001b[0m\n\u001b[1;32m    241\u001b[0m         \u001b[0;32mif\u001b[0m \u001b[0mx\u001b[0m\u001b[0;34m.\u001b[0m\u001b[0mshape\u001b[0m\u001b[0;34m[\u001b[0m\u001b[0;36m0\u001b[0m\u001b[0;34m]\u001b[0m \u001b[0;34m!=\u001b[0m \u001b[0my\u001b[0m\u001b[0;34m.\u001b[0m\u001b[0mshape\u001b[0m\u001b[0;34m[\u001b[0m\u001b[0;36m0\u001b[0m\u001b[0;34m]\u001b[0m\u001b[0;34m:\u001b[0m\u001b[0;34m\u001b[0m\u001b[0m\n\u001b[1;32m    242\u001b[0m             raise ValueError(\"x and y must have same first dimension, but \"\n\u001b[0;32m--> 243\u001b[0;31m                              \"have shapes {} and {}\".format(x.shape, y.shape))\n\u001b[0m\u001b[1;32m    244\u001b[0m         \u001b[0;32mif\u001b[0m \u001b[0mx\u001b[0m\u001b[0;34m.\u001b[0m\u001b[0mndim\u001b[0m \u001b[0;34m>\u001b[0m \u001b[0;36m2\u001b[0m \u001b[0;32mor\u001b[0m \u001b[0my\u001b[0m\u001b[0;34m.\u001b[0m\u001b[0mndim\u001b[0m \u001b[0;34m>\u001b[0m \u001b[0;36m2\u001b[0m\u001b[0;34m:\u001b[0m\u001b[0;34m\u001b[0m\u001b[0m\n\u001b[1;32m    245\u001b[0m             raise ValueError(\"x and y can be no greater than 2-D, but have \"\n",
      "\u001b[0;31mValueError\u001b[0m: x and y must have same first dimension, but have shapes (130,) and (200,)"
     ]
    },
    {
     "data": {
      "image/png": "[encoded data removed]",
      "text/plain": [
       "<matplotlib.figure.Figure at 0x7fed9c880390>"
      ]
     },
     "metadata": {},
     "output_type": "display_data"
    }
   ],
   "source": [
    "plt.figure(figsize=(2*4,1.5*3))\n",
    "plt.plot(C, Integral_pinhole_16/np.max(Integral_pinhole_16), color='black', label=r'$\\hat{\\theta} = 16$')\n",
    "plt.plot(C, Integral_pinhole_12/np.max(Integral_pinhole_16), color='blue', linestyle='--', label=r'$\\hat{\\theta} = 12$')\n",
    "plt.plot(C, Integral_pinhole_8/np.max(Integral_pinhole_16), color='green',linestyle='-.', label=r'$\\hat{\\theta} = 8$')\n",
    "plt.plot(C, Integral_pinhole_4/np.max(Integral_pinhole_16), color='red',linestyle=':', label=r'$\\hat{\\theta} = 4$')\n",
    "plt.plot(C, Integral_pinhole_1/np.max(Integral_pinhole_16), color='gray',linestyle=(0, (1, 1)), label=r'$\\hat{\\theta} = 1$')\n",
    "plt.plot(C, Integral_pinhole_0_5/np.max(Integral_pinhole_16), color='tan',linestyle=(0, (3, 1, 1, 1, 1, 1)), label=r'$\\hat{\\theta} = 0.5$')\n",
    "\n",
    "plt.xlabel(r'$\\hat{C}$', fontsize=14, labelpad = 0.0)\n",
    "y = plt.ylabel(r'$I/I_0$', fontsize=14, labelpad = 0.0, rotation=90)\n",
    "y.set_rotation(0)\n",
    "\n",
    "ax = plt.gca()\n",
    "ax.spines['right'].set_color('none')\n",
    "ax.spines['top'].set_color('none')\n",
    "ax.xaxis.set_ticks_position('bottom')\n",
    "ax.spines['top'].set_position(('axes',0))\n",
    "ax.yaxis.set_ticks_position('left')\n",
    "ax.spines['top'].set_position(('data',0))\n",
    "ax.xaxis.set_label_coords(1, -0.02)\n",
    "ax.yaxis.set_label_coords(-0.03, 1.0)\n",
    "\n",
    "\n",
    "leg = plt.legend(fontsize=12)#loc='upper left')\n",
    "# Get the bounding box of the original legend\n",
    "bb = leg.get_bbox_to_anchor().inverse_transformed(ax.transAxes)\n",
    "\n",
    "# Change to location of the legend. \n",
    "xOffset = 0.2\n",
    "bb.x0 += 0.1\n",
    "bb.x1 += 0.01\n",
    "bb.y0 += 0.\n",
    "leg.set_bbox_to_anchor(bb, transform = ax.transAxes)\n",
    "    \n",
    "plt.xlim(-140, 20)\n",
    "plt.ylim(0, 1.1)\n",
    "plt.tight_layout()\n",
    "\n",
    "plt.xticks([-120, -100, -80, -60, -40, -20, 0],fontsize=10)\n",
    "        #  [r'$-\\pi$', r'$-\\pi/2$', r'$0$', r'$+\\pi/2$', r'$+\\pi$'])\n",
    "\n",
    "plt.yticks([0.2,0.4,0.6,0.8,1.0], fontsize=10)\n",
    "        #  [r'$-1$', r'$0$', r'$+1$'])\n",
    "\n",
    "for label in ax.get_xticklabels() + ax.get_yticklabels():\n",
    "    label.set_fontsize(12)\n",
    "    label.set_bbox(dict(facecolor='white', alpha=0.1, edgecolor='white'), )\n",
    "\n",
    "plt.savefig('/home/andrei/Documents/SKIF_XAS_beamline/TeXDoc/pic/spec_integ_ang.pdf')#, bbox_inches='tight')\n",
    "plt.show()    "
   ]
  },
  {
   "cell_type": "code",
   "execution_count": null,
   "metadata": {},
   "outputs": [],
   "source": []
  }
 ],
 "metadata": {
  "kernelspec": {
   "display_name": "Python 3",
   "language": "python",
   "name": "python3"
  },
  "language_info": {
   "codemirror_mode": {
    "name": "ipython",
    "version": 3
   },
   "file_extension": ".py",
   "mimetype": "text/x-python",
   "name": "python",
   "nbconvert_exporter": "python",
   "pygments_lexer": "ipython3",
   "version": "3.6.4"
  }
 },
 "nbformat": 4,
 "nbformat_minor": 2
}
