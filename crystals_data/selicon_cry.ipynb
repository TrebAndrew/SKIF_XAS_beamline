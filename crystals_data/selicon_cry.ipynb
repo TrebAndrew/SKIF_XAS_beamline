{
 "cells": [
  {
   "cell_type": "code",
   "execution_count": 5,
   "metadata": {},
   "outputs": [
    {
     "name": "stdout",
     "output_type": "stream",
     "text": [
      "[13.8600006, 12.1500017, 10.890001700000001, 9.8999995]\n"
     ]
    },
    {
     "ename": "FileNotFoundError",
     "evalue": "[Errno 2] No such file or directory: '../SKIF_XAS_beamline/1_1/TechReports/inter1/tabl/Darvin_curve_selicon.csv'",
     "output_type": "error",
     "traceback": [
      "\u001b[0;31m---------------------------------------------------------------------------\u001b[0m",
      "\u001b[0;31mFileNotFoundError\u001b[0m                         Traceback (most recent call last)",
      "\u001b[0;32m<ipython-input-5-29218bc4e4eb>\u001b[0m in \u001b[0;36m<module>\u001b[0;34m()\u001b[0m\n\u001b[1;32m     57\u001b[0m \u001b[0;34m\u001b[0m\u001b[0m\n\u001b[1;32m     58\u001b[0m np.savetxt(\"../SKIF_XAS_beamline/1_1/TechReports/inter1/tabl/Darvin_curve_selicon.csv\", \n\u001b[0;32m---> 59\u001b[0;31m            HARM, fmt='%10.d,%10.3f', delimiter=',')#, delimiter=' & ', fmt='%2.2e', newline=' \\\\\\\\\\n')\n\u001b[0m",
      "\u001b[0;32m~/anaconda3/lib/python3.6/site-packages/numpy/lib/npyio.py\u001b[0m in \u001b[0;36msavetxt\u001b[0;34m(fname, X, fmt, delimiter, newline, header, footer, comments, encoding)\u001b[0m\n\u001b[1;32m   1315\u001b[0m     \u001b[0;32mif\u001b[0m \u001b[0m_is_string_like\u001b[0m\u001b[0;34m(\u001b[0m\u001b[0mfname\u001b[0m\u001b[0;34m)\u001b[0m\u001b[0;34m:\u001b[0m\u001b[0;34m\u001b[0m\u001b[0m\n\u001b[1;32m   1316\u001b[0m         \u001b[0;31m# datasource doesn't support creating a new file ...\u001b[0m\u001b[0;34m\u001b[0m\u001b[0;34m\u001b[0m\u001b[0m\n\u001b[0;32m-> 1317\u001b[0;31m         \u001b[0mopen\u001b[0m\u001b[0;34m(\u001b[0m\u001b[0mfname\u001b[0m\u001b[0;34m,\u001b[0m \u001b[0;34m'wt'\u001b[0m\u001b[0;34m)\u001b[0m\u001b[0;34m.\u001b[0m\u001b[0mclose\u001b[0m\u001b[0;34m(\u001b[0m\u001b[0;34m)\u001b[0m\u001b[0;34m\u001b[0m\u001b[0m\n\u001b[0m\u001b[1;32m   1318\u001b[0m         \u001b[0mfh\u001b[0m \u001b[0;34m=\u001b[0m \u001b[0mnp\u001b[0m\u001b[0;34m.\u001b[0m\u001b[0mlib\u001b[0m\u001b[0;34m.\u001b[0m\u001b[0m_datasource\u001b[0m\u001b[0;34m.\u001b[0m\u001b[0mopen\u001b[0m\u001b[0;34m(\u001b[0m\u001b[0mfname\u001b[0m\u001b[0;34m,\u001b[0m \u001b[0;34m'wt'\u001b[0m\u001b[0;34m,\u001b[0m \u001b[0mencoding\u001b[0m\u001b[0;34m=\u001b[0m\u001b[0mencoding\u001b[0m\u001b[0;34m)\u001b[0m\u001b[0;34m\u001b[0m\u001b[0m\n\u001b[1;32m   1319\u001b[0m         \u001b[0mown_fh\u001b[0m \u001b[0;34m=\u001b[0m \u001b[0;32mTrue\u001b[0m\u001b[0;34m\u001b[0m\u001b[0m\n",
      "\u001b[0;31mFileNotFoundError\u001b[0m: [Errno 2] No such file or directory: '../SKIF_XAS_beamline/1_1/TechReports/inter1/tabl/Darvin_curve_selicon.csv'"
     ]
    }
   ],
   "source": [
    "###### import numpy as np\n",
    "import matplotlib.pyplot as plt\n",
    "import SKIF_lib as skf\n",
    "import numpy as np\n",
    "import os\n",
    "\n",
    "def open_cry(file):\n",
    "\n",
    "    f = open(file,\"r+\")\n",
    "    lines=f.readlines()\n",
    "    Y=[]\n",
    "\n",
    "    for x in lines:\n",
    "        Y.append(x.split('\\t')[0])\n",
    "    f.close()\n",
    "\n",
    "    Y_ = [0]*(len(Y)-1)\n",
    "    for i in range(len(Y)-1):\n",
    "        Y_[i]=float(Y[i])\n",
    "    return Y_\n",
    "\n",
    "which_cry=\"diamond\"\n",
    "\n",
    "file_path_x = os.getcwd() + \"/selicon_R/x/\"\n",
    "file_path_y = os.getcwd() + \"/selicon_R/y/\"\n",
    "X_ =[]\n",
    "Y_ =[]\n",
    "files = os.listdir(file_path_x)\n",
    "files.sort()\n",
    "\n",
    "for filename in files:\n",
    "    x_ = open_cry(file_path_x + filename)\n",
    "    X_.append(np.array(x_))\n",
    "    \n",
    "files = os.listdir(file_path_y)\n",
    "files.sort()\n",
    "for filename in files:\n",
    "    y_ = open_cry(file_path_y + filename)\n",
    "    Y_.append(np.array(y_))\n",
    "          \n",
    "#saving Dravin curve into a file\n",
    "harm1 = 15\n",
    "harm2 = 17\n",
    "harm3 = 19\n",
    "harm4 = 21\n",
    "harm = [harm1, harm2, harm3, harm4]\n",
    "\n",
    "HARM=[]\n",
    "fwhm=[]\n",
    "for (X, Y) in zip(X_, Y_):\n",
    "    idx = np.where(Y > 0.5)\n",
    "    fwhm.append(np.max(X[idx]) - np.min(X[idx]))\n",
    "  \n",
    "print(fwhm)\n",
    "for (w, n) in zip(fwhm, harm): \n",
    "    HARM.append([int(n), w])\n",
    "\n",
    "np.savetxt(\"../SKIF_XAS_beamline/1_1/TechReports/inter1/tabl/Darvin_curve_selicon.csv\", \n",
    "           HARM, fmt='%10.d,%10.3f', delimiter=',')#, delimiter=' & ', fmt='%2.2e', newline=' \\\\\\\\\\n')\n"
   ]
  },
  {
   "cell_type": "code",
   "execution_count": 2,
   "metadata": {},
   "outputs": [
    {
     "ename": "NameError",
     "evalue": "name 'plt' is not defined",
     "output_type": "error",
     "traceback": [
      "\u001b[0;31m---------------------------------------------------------------------------\u001b[0m",
      "\u001b[0;31mNameError\u001b[0m                                 Traceback (most recent call last)",
      "\u001b[0;32m<ipython-input-2-9fe487959154>\u001b[0m in \u001b[0;36m<module>\u001b[0;34m()\u001b[0m\n\u001b[0;32m----> 1\u001b[0;31m \u001b[0mfig\u001b[0m \u001b[0;34m=\u001b[0m \u001b[0mplt\u001b[0m\u001b[0;34m.\u001b[0m\u001b[0mfigure\u001b[0m\u001b[0;34m(\u001b[0m\u001b[0mfigsize\u001b[0m\u001b[0;34m=\u001b[0m\u001b[0;34m(\u001b[0m\u001b[0;36m1.5\u001b[0m\u001b[0;34m*\u001b[0m\u001b[0;36m4\u001b[0m\u001b[0;34m,\u001b[0m\u001b[0;36m1.5\u001b[0m\u001b[0;34m*\u001b[0m\u001b[0;36m3\u001b[0m\u001b[0;34m)\u001b[0m\u001b[0;34m)\u001b[0m\u001b[0;34m\u001b[0m\u001b[0m\n\u001b[0m\u001b[1;32m      2\u001b[0m \u001b[0;34m\u001b[0m\u001b[0m\n\u001b[1;32m      3\u001b[0m \u001b[0mX1\u001b[0m \u001b[0;34m=\u001b[0m \u001b[0mX_\u001b[0m\u001b[0;34m[\u001b[0m\u001b[0;36m0\u001b[0m\u001b[0;34m]\u001b[0m\u001b[0;34m\u001b[0m\u001b[0m\n\u001b[1;32m      4\u001b[0m \u001b[0mY1\u001b[0m \u001b[0;34m=\u001b[0m \u001b[0mY_\u001b[0m\u001b[0;34m[\u001b[0m\u001b[0;36m0\u001b[0m\u001b[0;34m]\u001b[0m\u001b[0;34m\u001b[0m\u001b[0m\n\u001b[1;32m      5\u001b[0m \u001b[0mX2\u001b[0m \u001b[0;34m=\u001b[0m \u001b[0mX_\u001b[0m\u001b[0;34m[\u001b[0m\u001b[0;36m1\u001b[0m\u001b[0;34m]\u001b[0m\u001b[0;34m\u001b[0m\u001b[0m\n",
      "\u001b[0;31mNameError\u001b[0m: name 'plt' is not defined"
     ]
    }
   ],
   "source": [
    "fig = plt.figure(figsize=(1.5*4,1.5*3))\n",
    "\n",
    "X1 = X_[0]\n",
    "Y1 = Y_[0]\n",
    "X2 = X_[1]\n",
    "Y2 = Y_[1]\n",
    "X3 = X_[2]\n",
    "Y3 = Y_[2]\n",
    "X4  = X_[3]\n",
    "Y4  = Y_[3]\n",
    "\n",
    "plt.plot(X4, Y4, color='lightgray', label='$E = 27.60 \\; кэВ$', linestyle=(0, (1, 1)))\n",
    "plt.plot(X3, Y3, color='dimgray', label='$E = 24.98 \\; кэВ$', linestyle=':')\n",
    "plt.plot(X2, Y2, color='darkgray', label='$E = 22.35 \\; кэВ$')\n",
    "plt.plot(X1, Y1, color='black', label='$E = 19.72 \\; кэВ$')\n",
    "\n",
    "plt.grid()\n",
    "\n",
    "plt.xlabel(r'$\\theta_{Брэгг} - \\theta, [мкрад]$', fontsize=14, labelpad = 0.0)\n",
    "y = plt.ylabel(r'$R, [\\%]$', fontsize=14, labelpad = 0.0, rotation=90)\n",
    "y.set_rotation(0)\n",
    "\n",
    "ax = plt.gca()\n",
    "ax.spines['right'].set_color('none')\n",
    "ax.spines['top'].set_color('none')\n",
    "ax.xaxis.set_ticks_position('bottom')\n",
    "ax.spines['top'].set_position(('axes',0))\n",
    "ax.yaxis.set_ticks_position('left')\n",
    "ax.spines['top'].set_position(('data',0))\n",
    "ax.xaxis.set_label_coords(0.88, -0.03)\n",
    "ax.yaxis.set_label_coords(-0.03, 0.99)\n",
    "\n",
    "plt.xticks([-20, -10, 0, 10, 20,30],fontsize=12)\n",
    "        #  [r'$-\\pi$', r'$-\\pi/2$', r'$0$', r'$+\\pi/2$', r'$+\\pi$'])\n",
    "\n",
    "plt.yticks([0.2,0.4,0.6,0.8, 1.0], fontsize=12)\n",
    "        #  [r'$-1$', r'$0$', r'$+1$'])\n",
    "\n",
    "plt.xlim(-20, 60)\n",
    "plt.ylim(0, 1.1)\n",
    "plt.tight_layout()\n",
    "plt.title(\"Selicon\", fontsize=16)\n",
    "plt.axvline(x=0, color='red', linestyle='--')\n",
    "\n",
    "a=plt.text(-3.5, 0.75, r'$Брэгговское \\enspace отражение$', fontsize=12)\n",
    "a.set_rotation(90)\n",
    "\n",
    "leg = plt.legend(fontsize=12)#loc='upper left')\n",
    "# Get the bounding box of the original legend\n",
    "bb = leg.get_bbox_to_anchor().inverse_transformed(ax.transAxes)\n",
    "\n",
    "plt.savefig('/home/andrei/Documents/SKIF_XAS_beamline/TeXDoc/pic/bragg_R.pdf')#, bbox_inches='tight')\n",
    "plt.savefig('/home/andrei/Documents/9_term/diplom/beamlines/1_1/bragg_R.png', dpi=200)#, bbox_inches='tight')\n",
    "plt.show()"
   ]
  },
  {
   "cell_type": "code",
   "execution_count": null,
   "metadata": {},
   "outputs": [],
   "source": []
  }
 ],
 "metadata": {
  "kernelspec": {
   "display_name": "Python 3",
   "language": "python",
   "name": "python3"
  },
  "language_info": {
   "codemirror_mode": {
    "name": "ipython",
    "version": 3
   },
   "file_extension": ".py",
   "mimetype": "text/x-python",
   "name": "python",
   "nbconvert_exporter": "python",
   "pygments_lexer": "ipython3",
   "version": "3.6.4"
  }
 },
 "nbformat": 4,
 "nbformat_minor": 2
}
